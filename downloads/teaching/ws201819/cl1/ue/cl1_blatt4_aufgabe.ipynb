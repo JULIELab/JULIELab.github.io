{
 "cells": [
  {
   "cell_type": "markdown",
   "metadata": {
    "colab_type": "text",
    "id": "9wLM0LR7sQ3N"
   },
   "source": [
    "# Übung zur Vorlesung \"Computerlinguistik I\"\n",
    "---\n",
    "Wintersemester 2018/19\n",
    "\n",
    "Modulverantwortliche: Prof. Dr. Udo Hahn, Sven Büchel\n",
    "\n",
    "Lehrstuhl für Computerlingustik \n",
    "\n",
    "Friedrich-Schiller-Universität Jena\n",
    "\n"
   ]
  },
  {
   "cell_type": "markdown",
   "metadata": {
    "colab_type": "text",
    "id": "Oq1WYezetLS8"
   },
   "source": [
    "**Blatt 4 vom 03. Dezember 2018:** Recherche, Kontrollstrukturen, Algorithmenverstehen\n",
    "\n",
    "Abgabe bis Sonntag, den 09. Dezember 2018, 23:59\n",
    "\n",
    "Per Email an sven.buechel@uni-jena.de\n",
    "\n",
    "---\n"
   ]
  },
  {
   "cell_type": "markdown",
   "metadata": {
    "colab_type": "text",
    "id": "aFejKkIct3V4"
   },
   "source": [
    "**Vorname:** ...\n",
    "\n",
    "** Name:** ...\n",
    "\n",
    "** Matrikelnummer:** ...\n",
    "\n",
    "---\n",
    "\n"
   ]
  },
  {
   "cell_type": "markdown",
   "metadata": {},
   "source": [
    "**Erreichte Punktzahl: .../10**\n",
    "\n",
    "-----"
   ]
  },
  {
   "cell_type": "markdown",
   "metadata": {
    "colab_type": "text",
    "id": "fvhgh7gSuShj"
   },
   "source": [
    "## Aufgabe 1: Recherche\n",
    "(.../4 Punkte)\n"
   ]
  },
  {
   "cell_type": "markdown",
   "metadata": {},
   "source": [
    "### a) ELIZA\n",
    "(.../2 Punkte)\n",
    "\n",
    "Durch welche Funktion ist das Programm Eliza bekannt geworden?\n",
    "\n"
   ]
  },
  {
   "cell_type": "markdown",
   "metadata": {
    "colab_type": "text",
    "id": "iY3H4G7XtCk_"
   },
   "source": [
    "#### Lösung\n",
    "\n",
    "...\n",
    "\n"
   ]
  },
  {
   "cell_type": "markdown",
   "metadata": {},
   "source": [
    "### b) Information Extraction und Information Retrieval\n",
    "(.../2 Punkte)\n",
    "\n",
    "Erklären Sie **kurz** den Unterschied zwischen Information Extraction (IE) und Information Retrieval (IR)."
   ]
  },
  {
   "cell_type": "markdown",
   "metadata": {
    "colab_type": "text",
    "id": "iY3H4G7XtCk_"
   },
   "source": [
    "#### Lösung\n",
    "\n",
    "...\n",
    "\n",
    "---\n"
   ]
  },
  {
   "cell_type": "markdown",
   "metadata": {},
   "source": [
    "## Aufgabe 2: Zahl heraussuchen\n",
    "(.../3 Punkte)\n",
    "\n",
    "Definieren Sie eine Funktion ```zahl_heraussuchen```, die zwei Argumente entgegennimmt: das erste ist eine Liste beliebiger Länge, die ausschließlich Zahlen enthält, das zweite Argument ist eine einzelne Zahl. Die Funktion soll den ersten Eintrag der Liste (erstes Argument) zurückgeben, das größer ist als das zweite Argument.\n",
    "\n",
    "Der Aufruf ```zahl_heraussuchen( [3,7,1,17] , 5)```  soll also z.B. 7 zurückgeben."
   ]
  },
  {
   "cell_type": "markdown",
   "metadata": {},
   "source": [
    "### Lösung"
   ]
  },
  {
   "cell_type": "code",
   "execution_count": 1,
   "metadata": {
    "collapsed": true
   },
   "outputs": [],
   "source": [
    "# code"
   ]
  },
  {
   "cell_type": "markdown",
   "metadata": {},
   "source": [
    "---"
   ]
  },
  {
   "cell_type": "markdown",
   "metadata": {},
   "source": [
    "## Aufgabe 3: Algorithmen verstehen\n",
    "(.../3 Punkte)\n",
    "\n",
    "Gegeben seien folgende Funktionen:"
   ]
  },
  {
   "cell_type": "code",
   "execution_count": 21,
   "metadata": {
    "collapsed": false
   },
   "outputs": [],
   "source": [
    "voks = [\"a\", \"e\", \"i\", \"o\", \"u\", \"A\", \"E\", \"I\", \"O\", \"U\", \"ä\", \"ö\", \"ü\", \"Ä\", \"Ö\", \"Ü\"]\n",
    "\n",
    "def vokale(wort):\n",
    "    counter = 0\n",
    "    for buchstabe in wort:\n",
    "        if buchstabe in voks:\n",
    "            counter += 1\n",
    "    return counter\n",
    "\n",
    "def ersetzeVokale(wort):\n",
    "    i = 0\n",
    "    while i < len(wort):\n",
    "        if wort[i] in voks:\n",
    "            wort = wort[:i] + \"u\" + wort[i+1:]\n",
    "        i += 1\n",
    "    return wort\n",
    "\n",
    "def aufrufer(wort):\n",
    "    if vokale(wort) > 1:\n",
    "        wort = ersetzeVokale(wort) \n",
    "    print(wort)\n"
   ]
  },
  {
   "cell_type": "markdown",
   "metadata": {},
   "source": [
    "Beschreiben knapp welchen Zweck die drei Funktion ```vokale```, ```ersetzeVokale``` und ```aufrufer``` jeweils efüllen."
   ]
  },
  {
   "cell_type": "markdown",
   "metadata": {},
   "source": [
    "### Lösung\n",
    "..."
   ]
  }
 ],
 "metadata": {
  "colab": {
   "collapsed_sections": [],
   "name": "cl1_blatt1_loesung.ipynb",
   "provenance": [],
   "version": "0.3.2"
  },
  "kernelspec": {
   "display_name": "Python 3",
   "language": "python",
   "name": "python3"
  },
  "language_info": {
   "codemirror_mode": {
    "name": "ipython",
    "version": 3
   },
   "file_extension": ".py",
   "mimetype": "text/x-python",
   "name": "python",
   "nbconvert_exporter": "python",
   "pygments_lexer": "ipython3",
   "version": "3.5.1"
  }
 },
 "nbformat": 4,
 "nbformat_minor": 0
}
