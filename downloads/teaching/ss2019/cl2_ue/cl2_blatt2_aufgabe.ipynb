{
 "cells": [
  {
   "cell_type": "markdown",
   "metadata": {
    "colab_type": "text",
    "id": "9wLM0LR7sQ3N"
   },
   "source": [
    "# Übung zur Vorlesung \"Computerlinguistik II\"\n",
    "---\n",
    "Sommersemester 2019\n",
    "\n",
    "Modulverantwortliche: Prof. Dr. Udo Hahn, Sven Büchel\n",
    "\n",
    "Lehrstuhl für Computerlingustik \n",
    "\n",
    "Friedrich-Schiller-Universität Jena\n",
    "\n"
   ]
  },
  {
   "cell_type": "markdown",
   "metadata": {
    "colab_type": "text",
    "id": "Oq1WYezetLS8"
   },
   "source": [
    "**Blatt 2 vom 30. April 2019: Earley-Parsing**\n",
    "\n",
    "Abgabe bis Sonntag, den **5. Mai 2019**, 23:59\n",
    "\n",
    "Per Email an sven.buechel@uni-jena.de\n",
    "\n",
    "---\n"
   ]
  },
  {
   "cell_type": "markdown",
   "metadata": {
    "colab_type": "text",
    "id": "aFejKkIct3V4"
   },
   "source": [
    "**Vorname:** ...\n",
    "\n",
    "** Name:** ...\n",
    "\n",
    "** Matrikelnummer:** ...\n",
    "\n",
    "---\n",
    "\n"
   ]
  },
  {
   "cell_type": "markdown",
   "metadata": {},
   "source": [
    "**Erreichte Punktzahl: .../10**\n",
    "\n",
    "-----"
   ]
  },
  {
   "cell_type": "markdown",
   "metadata": {
    "colab_type": "text",
    "id": "fvhgh7gSuShj"
   },
   "source": [
    "## Aufgabe 1: Probleme einfacher Parsing-Strategien\n",
    "** (.../2 Punkten)**\n",
    "\n",
    "1. Welche Schwierigkeiten ergeben sich bei einfachen Parsing-Strategien durch syntaktische Ambiguität? Geben Sie ein Beispiel an.\n",
    "2. Was sind rekursive Produktionsregeln? Welche Probleme können sich dadurch beim Parsing ergeben? Geben Sie ein Beispiel an.\n",
    "\n",
    "### Lösung:\n",
    "\n",
    "...\n"
   ]
  },
  {
   "cell_type": "markdown",
   "metadata": {},
   "source": [
    "---"
   ]
  },
  {
   "cell_type": "markdown",
   "metadata": {},
   "source": [
    "## Aufgabe 2: Earley-Parsing\n",
    "\n",
    "**(... / 8 Punkten)**\n",
    "\n",
    "### a)\n",
    "**(... / 5.5 Punkten)**\n",
    "\n",
    "Gegeben sei folgende Grammatik:\n",
    "\n",
    "$G = (N,T,P,S)$ mit\n",
    "\n",
    "\\begin{align}\n",
    "N = \\{NP, VP, PP, det, n, n\\}\n",
    "\\end{align}\n",
    "\n",
    "\\begin{align}\n",
    "T = \\{\\text{fly, the, to, Detroit, China}\\}\n",
    "\\end{align}\n",
    "\n",
    "\\begin{align}\n",
    "P = \\{ &  S \\longrightarrow VP,\\\\\n",
    " &S \\longrightarrow VP\\ PP,\\\\\n",
    " & NP \\longrightarrow det \\ n,\\\\\n",
    " & NP \\longrightarrow n, \\\\\n",
    " & VP \\longrightarrow v,\\\\\n",
    " & VP \\longrightarrow v \\ PP,\\\\\n",
    " & PP \\longrightarrow p\\ NP,\\\\\n",
    " & det \\longrightarrow the, \\\\\n",
    " & n \\longrightarrow Detroit,\\\\\n",
    " & n \\longrightarrow China,\\\\\n",
    " & p \\longrightarrow to,\\\\\n",
    " & v \\longrightarrow fly\\\\\n",
    "\\}\n",
    "\\end{align}\n",
    "\n",
    "Führen Sie ein syntaktische Analyse von `fly to Detroit` mit dem Earley-Algorithmus durch. Geben Sie hierfür den vollständig ausgefüllten Chart an. Notieren Sie dabei für jeden Zustand, welche der drei Hilfsfunktionen den entsprechen Zustand zum Chart hinzugefügt hat. "
   ]
  },
  {
   "cell_type": "markdown",
   "metadata": {},
   "source": [
    "### Lösung\n",
    "\n",
    "...\n"
   ]
  },
  {
   "cell_type": "markdown",
   "metadata": {},
   "source": [
    "### b) \n",
    "**(... / 2.5 Punkten)**\n",
    "\n",
    "Beantworten Sie **knapp** folgende Fragen:\n",
    "\n",
    "1. Wozu dient der Punkt, die der Early-Algorithmus in die Produktionsregeln einführt?\n",
    "2. In welchen Zusammenhang stehen Left-Corner-Parsing und der der Earley-Algorithmus?\n",
    "3. Was ist die Aufgabe des Predictors?\n",
    "4. Was ist die Aufgabe des Scanners?\n",
    "5. Was ist die Aufgabe des Completers?"
   ]
  },
  {
   "cell_type": "markdown",
   "metadata": {},
   "source": [
    "### Lösung\n",
    "\n",
    "..."
   ]
  },
  {
   "cell_type": "markdown",
   "metadata": {},
   "source": [
    "---"
   ]
  }
 ],
 "metadata": {
  "colab": {
   "collapsed_sections": [],
   "name": "cl1_blatt1_loesung.ipynb",
   "provenance": [],
   "version": "0.3.2"
  },
  "kernelspec": {
   "display_name": "Python 3",
   "language": "python",
   "name": "python3"
  },
  "language_info": {
   "codemirror_mode": {
    "name": "ipython",
    "version": 3
   },
   "file_extension": ".py",
   "mimetype": "text/x-python",
   "name": "python",
   "nbconvert_exporter": "python",
   "pygments_lexer": "ipython3",
   "version": "3.5.1"
  }
 },
 "nbformat": 4,
 "nbformat_minor": 0
}
