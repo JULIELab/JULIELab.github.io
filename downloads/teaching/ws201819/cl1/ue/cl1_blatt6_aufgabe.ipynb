{
 "cells": [
  {
   "cell_type": "markdown",
   "metadata": {
    "colab_type": "text",
    "id": "9wLM0LR7sQ3N"
   },
   "source": [
    "# Übung zur Vorlesung \"Computerlinguistik I\"\n",
    "---\n",
    "Wintersemester 2018/19\n",
    "\n",
    "Modulverantwortliche: Prof. Dr. Udo Hahn, Sven Büchel\n",
    "\n",
    "Lehrstuhl für Computerlingustik \n",
    "\n",
    "Friedrich-Schiller-Universität Jena\n",
    "\n"
   ]
  },
  {
   "cell_type": "markdown",
   "metadata": {
    "colab_type": "text",
    "id": "Oq1WYezetLS8"
   },
   "source": [
    "**Blatt 6 vom 17. Dezember 2018: Formale Sprachen**\n",
    "\n",
    "Abgabe bis Sonntag, den **06. Januar 2019**, 23:59\n",
    "\n",
    "Per Email an sven.buechel@uni-jena.de\n",
    "\n",
    "---\n"
   ]
  },
  {
   "cell_type": "markdown",
   "metadata": {
    "colab_type": "text",
    "id": "aFejKkIct3V4"
   },
   "source": [
    "**Vorname:** ...\n",
    "\n",
    "** Name:** ...\n",
    "\n",
    "** Matrikelnummer:** ...\n",
    "\n",
    "---\n",
    "\n"
   ]
  },
  {
   "cell_type": "markdown",
   "metadata": {},
   "source": [
    "**Erreichte Punktzahl: .../10**\n",
    "\n",
    "-----"
   ]
  },
  {
   "cell_type": "markdown",
   "metadata": {},
   "source": [
    "## Einige hilfreiche LaTeX-Befehle\n",
    "\n",
    "* $\\mathbb{N}$\n",
    "* $\\mathcal{L}$\n",
    "* $\\chi$\n",
    "* $\\omega \\circ \\tau$\n",
    "* $\\Sigma^{*}$\n",
    "* $\\Sigma^{+}$\n",
    "\n",
    "\n",
    "----"
   ]
  },
  {
   "cell_type": "markdown",
   "metadata": {
    "colab_type": "text",
    "id": "fvhgh7gSuShj"
   },
   "source": [
    "## Aufgabe 1: Potenzschreibweise\n",
    "(.../3 Punkte)\n"
   ]
  },
  {
   "cell_type": "markdown",
   "metadata": {},
   "source": [
    "Schreiben Sie die folgenden Sprachen in Potenzschreibung.\n",
    "\n",
    "1. $ L_1 = \\{ dabt, daabbt, daaabbbt, \\ldots \\}$ \n",
    "* $ L_2 = \\{ baa, bbaaaab, bbbaaaaaaaabb, bbbbaaaaaaaaaaaaaaaabbb,\n",
    "  \\ldots \\}$\n",
    "* $L_3 = \\{ aabbbc, aaaabbbbbc, aaaaaabbbbbbbc, \\ldots \\} $\n"
   ]
  },
  {
   "cell_type": "markdown",
   "metadata": {},
   "source": [
    "**Lösung:**\n",
    "\n",
    "..."
   ]
  },
  {
   "cell_type": "markdown",
   "metadata": {},
   "source": [
    "---"
   ]
  },
  {
   "cell_type": "markdown",
   "metadata": {},
   "source": [
    "## Aufgabe 2: Potenzen von Sprachen\n",
    "(.../2 Punkte)"
   ]
  },
  {
   "cell_type": "markdown",
   "metadata": {},
   "source": [
    "Sei die Sprache $ \\mathcal{L} = \\{ a, z \\} $. Bilden Sie alle Potenzen $\\mathcal{L}^n$ für $n \\leq 3, n \\in \\mathbb{N}_0$.\n"
   ]
  },
  {
   "cell_type": "markdown",
   "metadata": {},
   "source": [
    "**Lösung:**\n",
    "\n",
    "\n",
    "...\n"
   ]
  },
  {
   "cell_type": "markdown",
   "metadata": {},
   "source": [
    "---"
   ]
  },
  {
   "cell_type": "markdown",
   "metadata": {},
   "source": [
    "## Aufgabe 3: Programmieren\n",
    "(.../5 Punkte)"
   ]
  },
  {
   "cell_type": "markdown",
   "metadata": {},
   "source": [
    "### a) Sprachen Konkatenieren\n",
    "(.../2 Punkten)\n",
    "\n",
    "Schreiben Sie eine Funktion, die zwei endliche Wortmengen bzw. Sprachen konkateniert. Dabei sollen die Eingaben als Listen von Strings realisiert werden. Die Rückgabe soll wiederum eine Liste von Strings sein.\n",
    "\n",
    "Führen Sie einen Probelauf, bei dem Sie die Sprachen $\\{a, b, c\\}$ und $\\{d, e, f\\}$ konkatenieren, durch.\n",
    "\n",
    "**Lösung:** "
   ]
  },
  {
   "cell_type": "code",
   "execution_count": 4,
   "metadata": {
    "collapsed": true
   },
   "outputs": [],
   "source": [
    "# Code goes here"
   ]
  },
  {
   "cell_type": "markdown",
   "metadata": {},
   "source": [
    "### b) Potenzen von Sprachen\n",
    "(.../3) Punkten\n",
    "\n",
    "Schreiben Sie eine Funktion, die eine endliche Wortmenge (Liste von Strings) und eine Ganzzahl $n$ entgegennimmt. Die Funktion soll die $n$-te Potenz der Wortmenge zurückgeben. Sie dürfen hierfür auf ihre Lösung aus des letzten Teilaufgabe zurückgreifen. \n",
    "\n",
    "Führen Sie einen Probelauf mit der dritten Potenz der Sprache aus Aufgabe 2 durch."
   ]
  },
  {
   "cell_type": "code",
   "execution_count": 3,
   "metadata": {
    "collapsed": true
   },
   "outputs": [],
   "source": [
    "# Code goes here"
   ]
  },
  {
   "cell_type": "markdown",
   "metadata": {},
   "source": [
    "---"
   ]
  }
 ],
 "metadata": {
  "colab": {
   "collapsed_sections": [],
   "name": "cl1_blatt1_loesung.ipynb",
   "provenance": [],
   "version": "0.3.2"
  },
  "kernelspec": {
   "display_name": "Python 3",
   "language": "python",
   "name": "python3"
  },
  "language_info": {
   "codemirror_mode": {
    "name": "ipython",
    "version": 3
   },
   "file_extension": ".py",
   "mimetype": "text/x-python",
   "name": "python",
   "nbconvert_exporter": "python",
   "pygments_lexer": "ipython3",
   "version": "3.5.1"
  }
 },
 "nbformat": 4,
 "nbformat_minor": 0
}
