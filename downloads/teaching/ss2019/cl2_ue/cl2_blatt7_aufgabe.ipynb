{
 "cells": [
  {
   "cell_type": "markdown",
   "metadata": {
    "colab_type": "text",
    "id": "9wLM0LR7sQ3N"
   },
   "source": [
    "# Übung zur Vorlesung \"Computerlinguistik II\"\n",
    "---\n",
    "Sommersemester 2019\n",
    "\n",
    "Modulverantwortliche: Prof. Dr. Udo Hahn, Sven Büchel\n",
    "\n",
    "Lehrstuhl für Computerlingustik \n",
    "\n",
    "Friedrich-Schiller-Universität Jena\n",
    "\n"
   ]
  },
  {
   "cell_type": "markdown",
   "metadata": {
    "colab_type": "text",
    "id": "Oq1WYezetLS8"
   },
   "source": [
    "**Blatt 7 vom 25. Juni 2019: Annotation**\n",
    "\n",
    "Abgabe bis Sonntag, den **30. Juni 2019**, 23:59\n",
    "\n",
    "Per Email an sven.buechel@uni-jena.de\n",
    "\n",
    "---\n"
   ]
  },
  {
   "cell_type": "markdown",
   "metadata": {
    "colab_type": "text",
    "id": "aFejKkIct3V4"
   },
   "source": [
    "**Vorname:** ...\n",
    "\n",
    "** Name:** ...\n",
    "\n",
    "** Matrikelnummer:** ...\n",
    "\n",
    "---\n",
    "\n"
   ]
  },
  {
   "cell_type": "markdown",
   "metadata": {},
   "source": [
    "**Erreichte Punktzahl: .../10**\n",
    "\n",
    "-----"
   ]
  },
  {
   "cell_type": "markdown",
   "metadata": {},
   "source": [
    "## Aufgabe 1: POS-Annotation und Chunking\n",
    "\n",
    "**(... / 3 Punkten)**\n",
    "\n",
    "Betrachten Sie folgenden Text:\n",
    "\n",
    "    Die letzten Sekunden des Bundespräsidenten Horst Köhler lösen widersprüchliche\n",
    "    Gefühle aus. Wie er da Hand in Hand mit seiner Frau dem Ausgang des Schlosses\n",
    "    Bellevue zustrebte, das hatte etwas Anrührendes. Man fragte sich, wie übel dem\n",
    "    Mann mitgespielt worden sein muss, dass er so geht.\n",
    "   \n",
    "Die Wörter des oben gegebenen Texts soll auf ihre Wortarten hin annotiert\n",
    "werden. Als mögliche Wortarten dient das folgende Tag-Set (eine Menge von Tags\n",
    "oder Labeln):\n",
    "\n",
    "\n",
    "\n",
    "\n",
    "| Tag | Beschreibung | Beispiel |\n",
    "|------|--------------|----------|\n",
    "|ADJA | attributives Adjektiv | [das] große [Haus] |\n",
    "| ADJD | adverbiales oder prädikatives Adjektiv | [er fährt] schnell, [er ist] schnell  |\n",
    "|ADV |  Adverb | schon, bald, doch |\n",
    "|ART | bestimmter oder unbestimmter Artikel | der, die, das, ein, eine  |\n",
    "|K |  Konjunktion | weil, dass, damit, wenn, ob |\n",
    "|N |  Nomen  | Tisch, Herr, Hans |\n",
    "|P | Pronomen | er, mein, sich, jener, kein [Mensch],irgendein [Glas] |\n",
    "|PR |  Präposition | in [der Stadt], ohne [mich] |\n",
    "|PTKVZ |  abgetrennter Verbzusatz  |[er kommt] an, [er fährt] rad |\n",
    "|V | Verb | gehen, stand, gelegen |\n",
    "|\\$, |  Komma | , |\n",
    "|\\$. | Satzbeendende Interpunktion | . ? ! ; :  |\n",
    "\n",
    "\n",
    "Um jedem Wort eine Wortart zuzuweisen, bauen Sie eine Tabelle auf, in der die\n",
    "jeweilige Zuweisung ersichtlich ist. Um Platz zu sparen, können Sie mehrere\n",
    "Spalten nebeneinander abbilden. Fügen Sie außerdem eine Spalte hinzu, um Chunks\n",
    "zu annotieren. Verwenden Sie für die Chunk-Annotation das in Vorlesung und\n",
    "Übung gezeigte IOB (BIO) Format.\n",
    "\n",
    "Insgesamt soll die Tabelle also die drei Spalten *Token*, *POS* und *Chunk (BIO)* haben."
   ]
  },
  {
   "cell_type": "markdown",
   "metadata": {},
   "source": [
    "**Lösung** \n",
    "\n",
    "|Token|POS|Chunk (BIO)|\n",
    "|----|----|----|\n",
    "|Die | ... |... |\n",
    "|letzten | ... | ... |\n",
    "|Sekunden | ... | ... |\n",
    "|... | ... | ... |\n"
   ]
  },
  {
   "cell_type": "markdown",
   "metadata": {},
   "source": [
    "---"
   ]
  },
  {
   "cell_type": "markdown",
   "metadata": {
    "colab_type": "text",
    "id": "fvhgh7gSuShj"
   },
   "source": [
    "## Aufgabe 2: NP-Parsing\n",
    "** (... / 3 Punkten)**\n",
    "\n",
    "Sehen Sie sich den ersten Satz des Texts aus der ersten Aufgabe an. Sie haben\n",
    "bereits Chunks im IOB-Format identifiziert. Schreiben Sie eine Typ-2-Grammatik\n",
    "Grammatik, um die Nominalphrasen dieses Satzes syntaktisch zu analysieren. Führen Sie die entsprechenden Analysen durch und stellen Sie Ihr Ergebnis in Form einer Ableitung dar. Sie können hierzu auf die bekannte Doppelpfeil-Schreibweise zurückgreifen (z.B. $NP \\Rightarrow \\dots \\Rightarrow$ *die letzten Sekunden*).\n"
   ]
  },
  {
   "cell_type": "markdown",
   "metadata": {},
   "source": [
    "** Lösung:**\n",
    "\n",
    "..."
   ]
  },
  {
   "cell_type": "markdown",
   "metadata": {},
   "source": [
    "---"
   ]
  },
  {
   "cell_type": "markdown",
   "metadata": {},
   "source": [
    "## Aufgabe 3: PTB-Format\n",
    "\n",
    "**( ... / 4 Punkten)**\n",
    "\n",
    "Wie in der Vorlesung gezeigt, besteht das PennTreebank-Corpus aus\n",
    "Klartextdateien. Sätze sind in einer Klammerschreibweise angegeben, wie sie\n",
    "beispielsweise in den folgenden zwei Sätzen aus dem Corpus demonstriert wird:"
   ]
  },
  {
   "cell_type": "raw",
   "metadata": {},
   "source": [
    "( (S (S (NP-SBJ An enormous turtle)\n",
    "        (VP has\n",
    "                (VP succeeded\n",
    "                (SBAR-LOC (WHADVP-1 where)\n",
    "                          (S (NP-SBJ the government)\n",
    "                             (VP has\n",
    "                                 (VP failed\n",
    "                                     (ADVP-LOC *T*-1))))))))\n",
    "     :\n",
    "     (S (NP-SBJ He)\n",
    "        (VP has\n",
    "            (VP made\n",
    "                (S (S-NOM-SBJ (NP-SBJ *)\n",
    "                              (VP speaking\n",
    "                                  (NP Filipino)))\n",
    "                   (ADJP-PRD respectable)))))\n",
    "     .))"
   ]
  },
  {
   "cell_type": "markdown",
   "metadata": {},
   "source": [
    "Geben Sie für den Satz\n",
    "\n",
    "    The turtle Pong Pagong is a character who stars in children's television show Batibot.\n",
    "\n",
    "analog zu den obigen Beispielsätzen einen Parse in Klammer-Form an. Verwenden\n",
    "sie für die Phrasenbezeichnungen einfache Kategorien, wie sie zuvor in\n",
    "Vorlesung und Übung verwendet wurden, z.B. S, NP, VP etc. Falls Sie es für\n",
    "nötig erachten, können Sie auch weitere Kategorien verwenden. \n",
    "\n",
    "Für diese Aufgabe ist die Korrektheit der syntaktischen Analyse weniger wichtig, als die korrekte umsetzung des PTB-Formats!\n",
    "\n",
    "(Zur Darstellung im Jupyter Notebook stellen Sie die entsprechende Zelle bitte auf \"Raw NBConvert\" statt wie sonst \"Code\" oder \"Markdown\" auszuwählen.)"
   ]
  },
  {
   "cell_type": "markdown",
   "metadata": {},
   "source": [
    "** Lösung: **"
   ]
  },
  {
   "cell_type": "raw",
   "metadata": {},
   "source": [
    "..."
   ]
  },
  {
   "cell_type": "markdown",
   "metadata": {},
   "source": [
    "---"
   ]
  }
 ],
 "metadata": {
  "colab": {
   "collapsed_sections": [],
   "name": "cl1_blatt1_loesung.ipynb",
   "provenance": [],
   "version": "0.3.2"
  },
  "kernelspec": {
   "display_name": "Python 3",
   "language": "python",
   "name": "python3"
  },
  "language_info": {
   "codemirror_mode": {
    "name": "ipython",
    "version": 3
   },
   "file_extension": ".py",
   "mimetype": "text/x-python",
   "name": "python",
   "nbconvert_exporter": "python",
   "pygments_lexer": "ipython3",
   "version": "3.5.1"
  }
 },
 "nbformat": 4,
 "nbformat_minor": 0
}
