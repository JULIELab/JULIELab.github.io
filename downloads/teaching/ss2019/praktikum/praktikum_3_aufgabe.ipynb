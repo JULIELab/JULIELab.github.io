{
 "cells": [
  {
   "cell_type": "markdown",
   "metadata": {
    "colab_type": "text",
    "id": "9wLM0LR7sQ3N"
   },
   "source": [
    "# Softwaretechnologien für Natürlichsprachliche System\n",
    "---\n",
    "Sommersemester 2019\n",
    "\n",
    "Modulverantwortliche: Prof. Dr. Udo Hahn, Sven Büchel\n",
    "\n",
    "Lehrstuhl für Computerlingustik \n",
    "\n",
    "Friedrich-Schiller-Universität Jena\n",
    "\n"
   ]
  },
  {
   "cell_type": "markdown",
   "metadata": {
    "colab_type": "text",
    "id": "Oq1WYezetLS8"
   },
   "source": [
    "**Blatt 3 vom 13. Mai 2019: Datenanalyse**\n",
    "\n",
    "Abgabe bis Dienstag, den **18. Mai 2019**, 23:59\n",
    "\n",
    "Per Email an sven.buechel@uni-jena.de\n",
    "\n",
    "---\n"
   ]
  },
  {
   "cell_type": "markdown",
   "metadata": {
    "colab_type": "text",
    "id": "aFejKkIct3V4"
   },
   "source": [
    "**Vorname:** ...\n",
    "\n",
    "** Name:** ...\n",
    "\n",
    "** Matrikelnummer:** ...\n",
    "\n",
    "---\n",
    "\n"
   ]
  },
  {
   "cell_type": "markdown",
   "metadata": {},
   "source": [
    "**Erreichte Punktzahl: .../10**\n",
    "\n",
    "---"
   ]
  },
  {
   "cell_type": "markdown",
   "metadata": {},
   "source": [
    "## Aufgabe 0:  Weiteres Lernmaterial zu den behandelten Bibliotheken\n",
    "\n",
    "In der letzten Sitzung wurde eine große Anzahl neuer Bibliotheken vorgestellt. Die aller wichtigsten Funktionalitäten wurden jeweils eingeführt, allerdings musste aus Zeitgründen vieles weggelassen, was Sie als Linguist*in gebrauchen können. Schauen Sie sich bei Bedarf oder zur Wiederholung gerne die folgenden Tutorials an oder recherchieren Sie selbstständig nach Lernmaterial:\n",
    "\n",
    "* Numpy: [Offizieller Quickstart Guide](https://docs.scipy.org/doc/numpy/user/quickstart.html)\n",
    "* Scipy Stats: Das [offizielle Tutorial](https://docs.scipy.org/doc/scipy/reference/stats.html) ist relativ fortgeschritten. Da meist auf sehr spezifische Funktionen (z.B. für statistische Maße oder Tests) zurückgegriffen wird, empfehle ich eher einen Blick auf diese [Übersichtsseite](https://docs.scipy.org/doc/scipy/reference/stats.html) zu werfen. \n",
    "* Pyplot: [Offizielles Tutorial](https://matplotlib.org/users/pyplot_tutorial.html)\n",
    "* Pandas: [Ein sehr gutes Video-Tutorial](https://matplotlib.org/users/pyplot_tutorial.html)"
   ]
  },
  {
   "cell_type": "markdown",
   "metadata": {
    "colab_type": "text",
    "id": "fvhgh7gSuShj"
   },
   "source": [
    "## Aufgabe 1: Numpy-Grundlagen\n",
    "** (.../2 Punkten)**\n",
    "\n",
    "Erzeugen Sie drei 3x3-Arrays, jeweils eines mit den Zahlen von 1 bis 9, 10 bis 18 und 19 bis 27. Addieren Sie alle Arrays komponentenweise und speichern Sie das Ergebnis in einem neuen Array. Was ist der Durchschnitt der Quadrate aller Komponenten dieses vierten Arrays?\n"
   ]
  },
  {
   "cell_type": "markdown",
   "metadata": {},
   "source": [
    "---\n",
    "## Aufgabe 2: Linguistische Datenanalyse\n",
    "** (.../8 Punkten)**\n",
    "\n",
    "Laden Sie sich jeweils fünf beliebige Einleitungen von englischsprachigen Wikipedia-Artikeln (gemeint ist der Teil oberhalb des Inhaltsverzeichnisses) und fünf Abstracts aus der [ACL Anthology](https://aclweb.org/anthology/) (der wichtigsten Sammlung computlerlinguistischer Forschungsartikel) herunter und speichern diese lokal als txt-Dateien.\n",
    "\n",
    "Sie können txt-Dateien mit folgendem Codeschnipsel laden."
   ]
  },
  {
   "cell_type": "code",
   "execution_count": 11,
   "metadata": {
    "collapsed": false
   },
   "outputs": [
    {
     "data": {
      "text/plain": [
       "'foo test\\n\\nbar'"
      ]
     },
     "execution_count": 11,
     "metadata": {},
     "output_type": "execute_result"
    }
   ],
   "source": [
    "with open(\"filename.txt\", \"r\") as content_file:\n",
    "    content = content_file.read()\n",
    "content"
   ]
  },
  {
   "cell_type": "markdown",
   "metadata": {},
   "source": [
    "* Berechnen Sie für jede der Einleitungen und jedes der Abstracts die jeweilige Type und Tokenzahl. Speichern Sie die Ergebnisse in einem sinnvoll mit Index- und Spaltennamen versehenen DataFrame. \n",
    "* Berechnen Sie die Korrelation zwischen Type- und Tokenzahl und erstellen Sie dazu ein Streudiagramm.\n",
    "* Testen Sie die Hypothese, dass die Abstracts eine höhrere Type-Token-Ratio haben, als die Wikipedia-Einleitungen.\n",
    "* Erstellen Sie nun das Gesamtvokabular aller 10 Dokumente und berechnen Sie, wie häufig jeder Type  insgesamt im Korpus vorkommt. Speichern Sie das Ergebnis in einer Pandas Series. \n",
    "* Sortieren Sie die Series nach Häufigkeit, sodass der häufigste Type ganz links steht. Plotten Sie den Rang der Types gegen ihre jeweilige Häufigkeit. Was fällt Ihnen auf? Wie nennt sich dieses Phänomen?"
   ]
  },
  {
   "cell_type": "markdown",
   "metadata": {},
   "source": [
    "---"
   ]
  }
 ],
 "metadata": {
  "colab": {
   "collapsed_sections": [],
   "name": "cl1_blatt1_loesung.ipynb",
   "provenance": [],
   "version": "0.3.2"
  },
  "kernelspec": {
   "display_name": "Python 3",
   "language": "python",
   "name": "python3"
  },
  "language_info": {
   "codemirror_mode": {
    "name": "ipython",
    "version": 3
   },
   "file_extension": ".py",
   "mimetype": "text/x-python",
   "name": "python",
   "nbconvert_exporter": "python",
   "pygments_lexer": "ipython3",
   "version": "3.5.1"
  }
 },
 "nbformat": 4,
 "nbformat_minor": 0
}
