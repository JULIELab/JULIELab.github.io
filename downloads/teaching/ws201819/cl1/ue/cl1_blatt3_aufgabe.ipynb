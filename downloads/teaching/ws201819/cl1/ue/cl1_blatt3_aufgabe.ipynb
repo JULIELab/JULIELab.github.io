{
 "cells": [
  {
   "cell_type": "markdown",
   "metadata": {
    "colab_type": "text",
    "id": "9wLM0LR7sQ3N"
   },
   "source": [
    "# Übung zur Vorlesung \"Computerlinguistik I\"\n",
    "---\n",
    "Wintersemester 2018/19\n",
    "\n",
    "Modulverantwortliche: Prof. Dr. Udo Hahn, Sven Büchel\n",
    "\n",
    "Lehrstuhl für Computerlingustik \n",
    "\n",
    "Friedrich-Schiller-Universität Jena\n",
    "\n"
   ]
  },
  {
   "cell_type": "markdown",
   "metadata": {
    "colab_type": "text",
    "id": "Oq1WYezetLS8"
   },
   "source": [
    "**Blatt 3 vom 19. November 2018**\n",
    "\n",
    "Abgabe bis Sonntag, den 25. November 2018, 23:59\n",
    "\n",
    "Per Email an sven.buechel@uni-jena.de\n",
    "\n",
    "---\n"
   ]
  },
  {
   "cell_type": "markdown",
   "metadata": {
    "colab_type": "text",
    "id": "aFejKkIct3V4"
   },
   "source": [
    "**Vorname:** ...\n",
    "\n",
    "** Name:** ...\n",
    "\n",
    "** Matrikelnummer:** ...\n",
    "\n",
    "---\n",
    "\n"
   ]
  },
  {
   "cell_type": "markdown",
   "metadata": {
    "colab_type": "text",
    "id": "fvhgh7gSuShj"
   },
   "source": [
    "## Aufgabe 1: Fachliche Verortung der Computerlinguistik\n",
    "(1 Punkte)\n",
    "\n",
    "Nennen Sie drei wissenschaftliche Disziplinen aus denen sich die Computerlinguistik im Wesentlichen zusammensetzt. Welche Funktionen übernehmen diese Disziplinen jeweils im Kontext computerlinguistischer Forschung?\n",
    "\n",
    "\n",
    "\n"
   ]
  },
  {
   "cell_type": "markdown",
   "metadata": {
    "colab_type": "text",
    "id": "iY3H4G7XtCk_"
   },
   "source": [
    "### Lösung\n",
    "\n",
    "...\n",
    "\n",
    "---\n"
   ]
  },
  {
   "cell_type": "markdown",
   "metadata": {
    "colab_type": "text",
    "id": "e7KI_HmGwIZj"
   },
   "source": [
    "## Aufgabe 2:  Fakultät berechnen\n",
    "(4 Punkte)\n",
    "\n",
    "Definieren Sie eine Funktion, die eine Zahl entgegennimmt und ihre Fakultät zurückgibt. Die Fakultät ist das Produkt aller ganzen Zahlen von 1 bis zu dieser Zahl. Die Fakultät von 4 ist also 1 ∗ 2 ∗ 3 ∗ 4 = 24."
   ]
  },
  {
   "cell_type": "markdown",
   "metadata": {
    "colab_type": "text",
    "id": "0KUKMGj7xZZ2"
   },
   "source": [
    "### Lösung\n"
   ]
  },
  {
   "cell_type": "code",
   "execution_count": 1,
   "metadata": {
    "colab": {},
    "colab_type": "code",
    "collapsed": true,
    "id": "v-g4T2jTxf39"
   },
   "outputs": [],
   "source": [
    "# code goes here\n"
   ]
  },
  {
   "cell_type": "markdown",
   "metadata": {
    "colab_type": "text",
    "id": "4Rhzq3GdxfGQ"
   },
   "source": [
    "## Aufgabe 3: String invertieren\n",
    "(5 Punkte)\n",
    "\n",
    "Schreiben Sie eine Funktion, die einen String entgegennimmt und diesen \"umdreht\", sodass der neue String alle Zeichen in umgekehrter Reihenfolge enthält. Dieser neue String soll zurückgegeben werden. Auf die Eingabe \"Computerlinguistik\" soll z.B. also die Rückgabe \"kitsiugnilretupmoC\" erfolgen."
   ]
  },
  {
   "cell_type": "markdown",
   "metadata": {},
   "source": [
    "### Lösung"
   ]
  },
  {
   "cell_type": "code",
   "execution_count": 2,
   "metadata": {
    "collapsed": true
   },
   "outputs": [],
   "source": [
    "# code goes here"
   ]
  }
 ],
 "metadata": {
  "colab": {
   "collapsed_sections": [],
   "name": "cl1_blatt1_loesung.ipynb",
   "provenance": [],
   "version": "0.3.2"
  },
  "kernelspec": {
   "display_name": "Python 3",
   "language": "python",
   "name": "python3"
  },
  "language_info": {
   "codemirror_mode": {
    "name": "ipython",
    "version": 3
   },
   "file_extension": ".py",
   "mimetype": "text/x-python",
   "name": "python",
   "nbconvert_exporter": "python",
   "pygments_lexer": "ipython3",
   "version": "3.5.1"
  }
 },
 "nbformat": 4,
 "nbformat_minor": 0
}
