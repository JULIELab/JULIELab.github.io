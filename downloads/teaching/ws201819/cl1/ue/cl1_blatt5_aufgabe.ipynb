{
 "cells": [
  {
   "cell_type": "markdown",
   "metadata": {
    "colab_type": "text",
    "id": "9wLM0LR7sQ3N"
   },
   "source": [
    "# Übung zur Vorlesung \"Computerlinguistik I\"\n",
    "---\n",
    "Wintersemester 2018/19\n",
    "\n",
    "Modulverantwortliche: Prof. Dr. Udo Hahn, Sven Büchel\n",
    "\n",
    "Lehrstuhl für Computerlingustik \n",
    "\n",
    "Friedrich-Schiller-Universität Jena\n",
    "\n"
   ]
  },
  {
   "cell_type": "markdown",
   "metadata": {
    "colab_type": "text",
    "id": "Oq1WYezetLS8"
   },
   "source": [
    "**Blatt 5 vom 10. Dezember 2018:** Mengen und Relationen\n",
    "\n",
    "Abgabe bis Sonntag, den 16. Dezember 2018, 23:59\n",
    "\n",
    "Per Email an sven.buechel@uni-jena.de\n",
    "\n",
    "---\n"
   ]
  },
  {
   "cell_type": "markdown",
   "metadata": {
    "colab_type": "text",
    "id": "aFejKkIct3V4"
   },
   "source": [
    "**Vorname:** ...\n",
    "\n",
    "** Name:** ...\n",
    "\n",
    "** Matrikelnummer:** ...\n",
    "\n",
    "---\n",
    "\n"
   ]
  },
  {
   "cell_type": "markdown",
   "metadata": {},
   "source": [
    "**Erreichte Punktzahl: .../10**\n",
    "\n",
    "-----"
   ]
  },
  {
   "cell_type": "markdown",
   "metadata": {},
   "source": [
    "## Kurze Befehlsübersicht zur LaTeX-Formelnotation\n",
    "\n",
    "[LaTeX](https://de.wikipedia.org/wiki/LaTeX) ist ein Softwarepaket zum Erzeugen von Textdokumenten. Anders als etwa Microsoft Word arbeitet LaTeX nach dem [What-you-see-is-what-you-mean](https://de.wikipedia.org/wiki/WYSIWYM)-Prinzip. Das heißt, der Anwender sieht während der Bearbeitung nicht das fertige Dokument vor sich, sondern einen speziellen Programmcode, der von LaTeX bei Bedarf in z.B. eine PDF-Datei umgewandelt wird. LaTeX erlaubt es Nutzern, Dokumente auf professionellem Niveau zu erzeugen. So ist z.B. der wohl überwiegende Teil aller Fachbücher in der Informatik damit erzeugt. Einer der größte Vorteile ist die vergleichsweise einfache Notation zum Erzeugen mathematischer Ausdrücke. \n",
    "\n",
    "Die LaTeX-Formelnotation ist auch in iPython Notebooks verfügbar. Nachfolgend finden Sie eine Zusammenstellung der wichtigsten Kommandos.\n",
    "\n",
    "### Grundlegendes\n",
    "Die Formelnotation beginnt und endet mit dem ```$```-Zeichen. Alternativ kann auch mit \n",
    "\n",
    "\n",
    "> `\\begin{equation} ... \\end{equation}` \n",
    "\n",
    "angefangen bzw. aufgehört werden. Letzteres führt automatisch zur Zentrierung des erzeugten Ausdrucks, ersteres nicht.\n",
    "\n",
    "Die meisten Zeichen stehen für sich selbst. Nur bestimmte Zeichen müssen besonders behandelt werden. Hier einige einfache Beispiele:\n",
    "\n",
    "* $ a b c d e f g $\n",
    "* $x = 3 +7$\n",
    "* \\begin{equation} x = 3 - 7 \\end{equation}\n",
    "\n",
    "Eine umfassende Liste von Kommando kann z.B. [hier](https://oeis.org/wiki/List_of_LaTeX_mathematical_symbols) gefunden werden. Nachfolgend finden Sie eine kleine Auswahl (Markdown-Code anschauen, um den LaTeX-Befehl sehen zu können). \n",
    "\n",
    "### Grundrechenarten\n",
    "\n",
    "* Addition $+$\n",
    "* Subtraktion $-$\n",
    "* Multiplikation $\\cdot$\n",
    "* Division $:$\n",
    "\n",
    "### Hoch- und tiefgestellte Schrift\n",
    "\n",
    "* Hochgestellt: $X^{2}$\n",
    "* Tiefgestellt: $X_{i}$\n",
    "\n",
    "### Komplexere Ausdrücke\n",
    "\n",
    "* Brüche \\begin{equation} \\frac{1+3}{27} \\end{equation}\n",
    "* Summen \\begin{equation} \\sum_{i=1}^{n} i^{2} \\end{equation}\n",
    "\n",
    "### Mengen und Relationen\n",
    "* Mengenklammern $A = \\{ a \\}$\n",
    "* Element $x \\in A$\n",
    "* Mengenschnitt $\\cap$\n",
    "* Mengenvereinigung $\\cup$\n",
    "* Teilmenge $A \\subseteq B$\n",
    "* Echte Teilmenge $ A \\subset B$\n",
    "* Leere Menge $\\emptyset$\n",
    "* Kardinalität $\\mid A \\mid$\n",
    "* Potenzmenge $\\wp (A)$\n",
    "* Verallgemeinerung des Durchschnitts \\begin{equation} \\bigcap_{i=1}^{n} M_{i} \\end{equation}\n",
    "* Verallgemeinerung der Vereinigung \\begin{equation} \\bigcup_{i=1}^{n} M_{i} \\end{equation}\n",
    "* Kartesisches Produkt $A \\times A$\n",
    "\n",
    "### Griechische Buchstaben\n",
    "Allgemein werden griechische Buchstaben durch einen Backslash `\\` gefolgt vom Namen des Buchstabens (kleingeschrieben) und einem Leerzeichen erzeugt. Eine Liste finden Sie z.B. [hier](https://mo.mathematik.uni-stuttgart.de/kurse/kurs44/seite20.html). Nachfolgend einige Beispiele.\n",
    "* $\\alpha$\n",
    "* $\\beta$\n",
    "* $\\gamma$\n",
    "* $\\rho$\n",
    "* $\\sigma$\n",
    "\n",
    "----"
   ]
  },
  {
   "cell_type": "markdown",
   "metadata": {
    "colab_type": "text",
    "id": "fvhgh7gSuShj"
   },
   "source": [
    "## Aufgabe 1: Mengen\n",
    "(.../5 Punkte)\n"
   ]
  },
  {
   "cell_type": "markdown",
   "metadata": {},
   "source": [
    "Welche der folgenden Aussagen sind richtig?\n",
    "\n",
    "1) $ \\mid \\{ a, b, \\{ c, d, e \\}, f \\} \\mid = 4 $\n",
    "\n",
    "2) $ \\{ a, b, c \\} \\subset \\{ a, b, c \\} $ \n",
    "\n",
    "3) $ (a, b, x) \\in \\{ a, b, c \\} \\times \\{ x, y, z \\} $\n",
    "\n",
    "4) $ (a, 2) \\in \\{ a, b, c \\} \\times \\{ 0, 2, 4 \\} $\n",
    "\n",
    "5) $ \\mid \\{ a, b, c, d \\} \\mid = 4 $\n",
    "\n",
    "6) $ \\{ (b, 0), (b, 4) \\} \\subseteq \\{ a, b, c \\} \\times \\{ 0, 2, 4 \\} $\n",
    "\n",
    "7) $ x \\in \\{ a, d, m \\} \\cup \\{ r, t, x \\} $\n",
    "\n",
    "8) $\\wp (\\{a,b,c\\}) = \\{ \\{a\\}, \\{b\\}, \\{c\\}, \\{a,b\\}, \\{a,c\\}, \\{b,c\\}, \\{a,b,c\\}\\}$\n",
    "\n",
    "9) $ \\{ d, e, f \\} \\subseteq \\{ d, e, f \\} $\n",
    "\n",
    "10) $ x \\in \\{ a, d, m \\} \\cap \\{ r, t, x \\} $"
   ]
  },
  {
   "cell_type": "markdown",
   "metadata": {},
   "source": [
    "**Lösung:**\n",
    "\n",
    "..."
   ]
  },
  {
   "cell_type": "markdown",
   "metadata": {},
   "source": [
    "---"
   ]
  },
  {
   "cell_type": "markdown",
   "metadata": {},
   "source": [
    "## Aufgabe 2: Relationen\n",
    "(.../2 Punkte)"
   ]
  },
  {
   "cell_type": "markdown",
   "metadata": {},
   "source": [
    "Es sei die Menge $M=\\{w, x, y, z\\}$ gegeben."
   ]
  },
  {
   "cell_type": "markdown",
   "metadata": {},
   "source": [
    "a) Geben Sie die Menge $M\\times M$, also das kartesische Produkt von $M$ mit $M$, an. (.../1 Punkte)"
   ]
  },
  {
   "cell_type": "markdown",
   "metadata": {},
   "source": [
    "**Lösung:**"
   ]
  },
  {
   "cell_type": "markdown",
   "metadata": {},
   "source": [
    "\n",
    "..."
   ]
  },
  {
   "cell_type": "markdown",
   "metadata": {},
   "source": [
    "b) Betrachten sie folgende Relation:\n",
    "\n",
    "$R_{1}=\\{(w,z),(y,x),(x,z),(u,x),(z,w)\\}$\n",
    "\n",
    "Ist $R_{1}$ eine Relation über $M$? Begründen Sie Ihre Antwort.\n",
    "\n",
    "(.../1 Punkte)"
   ]
  },
  {
   "cell_type": "markdown",
   "metadata": {},
   "source": [
    "**Lösung:**\n",
    "\n",
    "..."
   ]
  },
  {
   "cell_type": "markdown",
   "metadata": {},
   "source": [
    "---"
   ]
  },
  {
   "cell_type": "markdown",
   "metadata": {},
   "source": [
    "## Aufgabe 3: Produkte von Relationen\n",
    "(.../3 Punkte)"
   ]
  },
  {
   "cell_type": "markdown",
   "metadata": {},
   "source": [
    "Sei\n",
    "\n",
    "* die Menge $M = \\{Siegfried, Gertrud, Helmuth, Willhelmine, Frank, Annette, Kevin, Sandy\\}$ sowie\n",
    "* die Relation $R \\subseteq M\\times M$ mit $R = \\{(Helmuth, Frank), (Siegfried, Annette), (Willhelmine, Frank),\\\\ (Gertrud, Annette),(Frank, Kevin), (Frank, Sandy), (Annette, Kevin), (Annette, Sandy)\\}$. "
   ]
  },
  {
   "cell_type": "markdown",
   "metadata": {},
   "source": [
    "a) Geben Sie $RR = R^2$, das Produkt der Relation $R$ mit sich selbst, an. (.../1 Punkte)"
   ]
  },
  {
   "cell_type": "markdown",
   "metadata": {},
   "source": [
    "**Lösung:**\n",
    "\n",
    "..."
   ]
  },
  {
   "cell_type": "markdown",
   "metadata": {},
   "source": [
    "b) Welche Art von Beziehung zwischen realweltlichen Objekten könnte sinnvollerweise durch die Relation $R$ repräsentiert werden. Begründen Sie Ihre Antwort knapp. (.../2 Punkte)"
   ]
  },
  {
   "cell_type": "markdown",
   "metadata": {},
   "source": [
    "**Lösung:** \n",
    "\n",
    "..."
   ]
  },
  {
   "cell_type": "markdown",
   "metadata": {},
   "source": [
    "---"
   ]
  }
 ],
 "metadata": {
  "colab": {
   "collapsed_sections": [],
   "name": "cl1_blatt1_loesung.ipynb",
   "provenance": [],
   "version": "0.3.2"
  },
  "kernelspec": {
   "display_name": "Python 3",
   "language": "python",
   "name": "python3"
  },
  "language_info": {
   "codemirror_mode": {
    "name": "ipython",
    "version": 3
   },
   "file_extension": ".py",
   "mimetype": "text/x-python",
   "name": "python",
   "nbconvert_exporter": "python",
   "pygments_lexer": "ipython3",
   "version": "3.5.1"
  }
 },
 "nbformat": 4,
 "nbformat_minor": 0
}
