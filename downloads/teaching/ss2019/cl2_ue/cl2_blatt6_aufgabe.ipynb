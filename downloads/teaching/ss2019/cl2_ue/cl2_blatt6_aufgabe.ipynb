{
  "nbformat": 4,
  "nbformat_minor": 0,
  "metadata": {
    "colab": {
      "name": "cl2_blatt6_aufgabe.ipynb",
      "version": "0.3.2",
      "provenance": [],
      "collapsed_sections": []
    },
    "language_info": {
      "codemirror_mode": {
        "name": "ipython",
        "version": 3
      },
      "file_extension": ".py",
      "mimetype": "text/x-python",
      "name": "python",
      "nbconvert_exporter": "python",
      "pygments_lexer": "ipython3",
      "version": "3.5.1"
    },
    "kernelspec": {
      "display_name": "Python 3",
      "language": "python",
      "name": "python3"
    }
  },
  "cells": [
    {
      "cell_type": "markdown",
      "metadata": {
        "colab_type": "text",
        "id": "9wLM0LR7sQ3N"
      },
      "source": [
        "# Übung zur Vorlesung \"Computerlinguistik II\"\n",
        "---\n",
        "Sommersemester 2019\n",
        "\n",
        "Modulverantwortliche: Prof. Dr. Udo Hahn, Sven Büchel\n",
        "\n",
        "Lehrstuhl für Computerlingustik \n",
        "\n",
        "Friedrich-Schiller-Universität Jena\n",
        "\n"
      ]
    },
    {
      "cell_type": "markdown",
      "metadata": {
        "colab_type": "text",
        "id": "Oq1WYezetLS8"
      },
      "source": [
        "**Blatt 6 vom 18. Juni 2019: Korpora & Annotation**\n",
        "\n",
        "Abgabe bis Sonntag, den **23. Juni 2019**, 23:59\n",
        "\n",
        "Per Email an **johannes.hellrich@uni-jena.de**\n",
        "\n",
        "---\n"
      ]
    },
    {
      "cell_type": "markdown",
      "metadata": {
        "colab_type": "text",
        "id": "aFejKkIct3V4"
      },
      "source": [
        "**Vorname:** ...\n",
        "\n",
        "** Name:** ...\n",
        "\n",
        "** Matrikelnummer:** ...\n",
        "\n",
        "---\n",
        "\n"
      ]
    },
    {
      "cell_type": "markdown",
      "metadata": {
        "id": "YBLY-kx_Cktz",
        "colab_type": "text"
      },
      "source": [
        "**Erreichte Punktzahl: .../10**\n",
        "\n",
        "-----"
      ]
    },
    {
      "cell_type": "markdown",
      "metadata": {
        "id": "AJE1oGTmq7fX",
        "colab_type": "text"
      },
      "source": [
        "## Aufgabe 1: Fragen zu Korpora\n",
        "**(... / 2 Punkten)**"
      ]
    },
    {
      "cell_type": "markdown",
      "metadata": {
        "id": "pyItyUlBq5z4",
        "colab_type": "text"
      },
      "source": [
        "###Lösung:\n",
        "\n",
        "1.   Vergleichen Sie die Register der gesprochenen Sprache, die von den in der Vorlesung vorgestellten deutschen und englischen Referenzkorpora  abgedeckt werden. Welches Problem sehen Sie für Analysen des Deutschen?\n",
        "\n",
        "2.   Nennen Sie zwei Aufgaben, für die Korpora ohne textbezogene Annotationen (aber potentiell mit Metadaten, etwa Autorschaft) verwendet werden können.\n",
        "\n",
        "\n"
      ]
    },
    {
      "cell_type": "markdown",
      "metadata": {
        "id": "SAQ1FUTKq5on",
        "colab_type": "text"
      },
      "source": [
        "---\n",
        "\n"
      ]
    },
    {
      "cell_type": "markdown",
      "metadata": {
        "colab_type": "text",
        "id": "fvhgh7gSuShj"
      },
      "source": [
        "## Aufgabe 2: Annotationsformate\n",
        "**(... / 3 Punkten)**\n",
        "\n",
        "Gegeben sei der folgende Ausschnitt aus einem XML Dokument mit (bio-)medizinischen Annotationen:\n",
        "\n",
        "```\n",
        "<unit id=\"d12.u21\">\n",
        "    <text>\n",
        "        Bei Li-Fraumeni-Krebs, bei dem das p53-Gen defekt ist, arbeitet das\n",
        "        p53-Protein nicht richtig, und die Krebszellen können weiter wachsen.\n",
        "    </text>\n",
        "    <entity id=\"d12.u21.e1\" grp=\"DISO\" offset=\"16\" len=\"5\">Krebs</entity>\n",
        "    <entity id=\"d12.u21.e2\" grp=\"CHEM\" offset=\"35\" len=\"3\">p53</entity>\n",
        "    <entity id=\"d12.u21.e3\" grp=\"CHEM\" offset=\"68\" len=\"11\">p53-Protein</entity>\n",
        "</unit>\n",
        "```\n",
        "\n",
        "\n",
        "\n",
        "\n"
      ]
    },
    {
      "cell_type": "markdown",
      "metadata": {
        "id": "IC4JhLD8Ckt8",
        "colab_type": "text"
      },
      "source": [
        "###Lösung:\n",
        "\n",
        "\n",
        "1. Handelt es sich hier um ein in-line oder ein stand-off Format?\n",
        "\n",
        "2. Wandeln Sie den Text in den anderen Formatstyp um.\n",
        "\n",
        "3. Welche Probleme könnten bei dieser Art Umwandlung entstehen?\n",
        "\n"
      ]
    },
    {
      "cell_type": "markdown",
      "metadata": {
        "colab_type": "text",
        "id": "ApDvMWnaapds"
      },
      "source": [
        "---"
      ]
    },
    {
      "cell_type": "markdown",
      "metadata": {
        "id": "g0GCig9WCkuH",
        "colab_type": "text"
      },
      "source": [
        "## Aufgabe 3: Inter-Annotator Agreement Implementierung\n",
        "**(... / 2 Punkten)**\n",
        "\n",
        "Ein wichtiger Schritt in Annotationsprojekten mit mehreren Annotierenden ist der Vergleich ihrer Ergebnisse. Erstellen Sie eine Funktion, die zwei Listen mit Annotationen im IO Format entgegennimmt und deren prozentuale Übereinstimmung berechnet. Sie können davon ausgehen, dass die Listen stets die gleiche Länge haben. \n",
        "\n",
        "**Hinweis:** Die prozentuale Übereinstimmung entspricht $P_{a}$ in der nächsten Aufgabe. Die dort verwendete explizite Urteilsmatrix kann hier genutzt werden, aber eine Implementierung ohne ist ausreichend und empfohlen."
      ]
    },
    {
      "cell_type": "markdown",
      "metadata": {
        "collapsed": false,
        "id": "m6SvKDDvCkuT",
        "colab_type": "text"
      },
      "source": [
        "### Lösung:\n"
      ]
    },
    {
      "cell_type": "code",
      "metadata": {
        "id": "u81KAKF9CkuV",
        "colab_type": "code",
        "colab": {}
      },
      "source": [
        "# code goes here \n",
        "\n",
        "def iaa(liste1, liste2):\n",
        "    pass # code goes here\n",
        "    return agreement"
      ],
      "execution_count": 0,
      "outputs": []
    },
    {
      "cell_type": "code",
      "metadata": {
        "id": "r-zWJqhcCkub",
        "colab_type": "code",
        "colab": {
          "base_uri": "https://localhost:8080/",
          "height": 164
        },
        "outputId": "cd5020bf-2bf5-4855-f07a-1846e8493f48"
      },
      "source": [
        "# Testlauf\n",
        "iaa([\"O\",\"I\",\"I\",\"O\"], [\"O\",\"I\",\"O\",\"O\"]) == 0.75"
      ],
      "execution_count": 3,
      "outputs": [
        {
          "output_type": "error",
          "ename": "NameError",
          "evalue": "ignored",
          "traceback": [
            "\u001b[0;31m---------------------------------------------------------------------------\u001b[0m",
            "\u001b[0;31mNameError\u001b[0m                                 Traceback (most recent call last)",
            "\u001b[0;32m<ipython-input-3-04fecf544f14>\u001b[0m in \u001b[0;36m<module>\u001b[0;34m()\u001b[0m\n\u001b[0;32m----> 1\u001b[0;31m \u001b[0miaa\u001b[0m\u001b[0;34m(\u001b[0m\u001b[0;34m[\u001b[0m\u001b[0;34m\"I\"\u001b[0m\u001b[0;34m,\u001b[0m\u001b[0;34m\"I\"\u001b[0m\u001b[0;34m]\u001b[0m\u001b[0;34m,\u001b[0m \u001b[0;34m[\u001b[0m\u001b[0;34m\"O\"\u001b[0m\u001b[0;34m,\u001b[0m\u001b[0;34m\"I\"\u001b[0m\u001b[0;34m]\u001b[0m\u001b[0;34m)\u001b[0m \u001b[0;34m==\u001b[0m \u001b[0;36m0.5\u001b[0m\u001b[0;34m\u001b[0m\u001b[0;34m\u001b[0m\u001b[0m\n\u001b[0m",
            "\u001b[0;31mNameError\u001b[0m: name 'iaa' is not defined"
          ]
        }
      ]
    },
    {
      "cell_type": "markdown",
      "metadata": {
        "id": "XgcXnaryawHO",
        "colab_type": "text"
      },
      "source": [
        "---"
      ]
    },
    {
      "cell_type": "markdown",
      "metadata": {
        "id": "Jn6dA-IbaYHM",
        "colab_type": "text"
      },
      "source": [
        "## Aufgabe 4: Inter-Annotator Agreement Berechnung\n",
        "\n",
        "**(... / 3 Punkten)**\n",
        "\n",
        "Eine fortgeschrittenere Möglichkeit zur Berechnung des IAAs ist \"Cohen's Kappa\", das die Verteilung der vergebenen Label berücksichtigt.\n",
        "Dazu wird die tatsächliche Übereinstimmung $P_{a}$ mit der erwarteten Übereinstimmung $P_e$ verglichen:\n",
        "$ \\kappa = \\frac{P(a) - P(e)}{1 - P(e)} $\n",
        "\n",
        "Dabei wird die tatsächliche Übereinstimmung wie folgt berechnet:\n",
        "$ P_{a}=\\frac{\\sum_{i=0}^{u}U_{ii}}{N}$\n",
        "\n",
        "Und die erwartete Übereinstimmung mit: \n",
        "$P_{e}=\\frac{1}{N^{2}}\\sum_{i=0}^{u} (\\sum_{j=0}^{u}U_{ji} \\cdot  \\sum_{j=0}^{u}U_{ij}) $\n",
        "\n",
        " U ist eine $u \\times u$ Urteilsmatrix, die insgesamt N Urteile enthält. Hier beinhaltet U die Übereinstimmungswerte für Annotationen im IO Format:\n",
        "\n",
        "|  | **I** |**O** |\n",
        "|------|------|------|\n",
        "|  **I** | 40|10|\n",
        "|  **O**  | 20|30|\n",
        "\n"
      ]
    },
    {
      "cell_type": "markdown",
      "metadata": {
        "id": "NZQhqkUkae1s",
        "colab_type": "text"
      },
      "source": [
        "### Lösung:\n",
        "1. Berechnen Sie Cohen's Kappa und die dafür nötigen Übereinstimmungswerte für das angegebene Datenset.\n",
        "2. Vergleichen Sie Cohen's Kappa mit der tatsächlichen Übereinstimmung und Ihrem Eindruck von der Tabelle, spricht das Ergebnis für oder gegen die Einheitlichkeit der Annotationen?\n",
        "\n"
      ]
    }
  ]
}