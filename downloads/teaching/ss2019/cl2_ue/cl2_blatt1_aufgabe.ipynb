{
 "cells": [
  {
   "cell_type": "markdown",
   "metadata": {
    "colab_type": "text",
    "id": "9wLM0LR7sQ3N"
   },
   "source": [
    "# Übung zur Vorlesung \"Computerlinguistik II\"\n",
    "---\n",
    "Sommersemester 2019\n",
    "\n",
    "Modulverantwortliche: Prof. Dr. Udo Hahn, Sven Büchel\n",
    "\n",
    "Lehrstuhl für Computerlingustik \n",
    "\n",
    "Friedrich-Schiller-Universität Jena\n",
    "\n"
   ]
  },
  {
   "cell_type": "markdown",
   "metadata": {
    "colab_type": "text",
    "id": "Oq1WYezetLS8"
   },
   "source": [
    "**Blatt 1 vom 21. Januar 2019: Graphentheorie**\n",
    "\n",
    "Abgabe bis Sonntag, den **28. April 2019**, 23:59\n",
    "\n",
    "Per Email an sven.buechel@uni-jena.de\n",
    "\n",
    "---\n"
   ]
  },
  {
   "cell_type": "markdown",
   "metadata": {
    "colab_type": "text",
    "id": "aFejKkIct3V4"
   },
   "source": [
    "**Vorname:** ...\n",
    "\n",
    "** Name:** ...\n",
    "\n",
    "** Matrikelnummer:** ...\n",
    "\n",
    "---\n",
    "\n"
   ]
  },
  {
   "cell_type": "markdown",
   "metadata": {},
   "source": [
    "**Erreichte Punktzahl: .../10**\n",
    "\n",
    "-----"
   ]
  },
  {
   "cell_type": "markdown",
   "metadata": {
    "colab_type": "text",
    "id": "fvhgh7gSuShj"
   },
   "source": [
    "## Aufgabe 1: Allgemeine Graphen\n",
    "** (.../4 Punkten)**\n",
    "\n",
    "Geben Sie einen gerichteten Graphen an, der [Das Haus vom Nikolaus](https://de.wikipedia.org/wiki/Haus_vom_Nikolaus) repräsentiert. Dabei sollen die Kanten des Graphen in einer Weise gerichtet sein, so dass ein \"Pfad ohne Absetzen und ohne Überzeichnen\" entsteht, der das gesamte \"Haus\" ergibt. Geben Sie das Ergebnis formal als Paar $G=(K, \\rho)$ an.\n",
    "\n",
    "### Lösung:\n",
    "\n",
    "...\n"
   ]
  },
  {
   "cell_type": "markdown",
   "metadata": {},
   "source": [
    "---"
   ]
  },
  {
   "cell_type": "markdown",
   "metadata": {},
   "source": [
    "## Aufgabe 2: Einfache Implementierung von Graphen und Bäumen\n",
    "\n",
    "**(.../6 Punkten)**\n",
    "\n",
    "Betrachten Sie zunächste folgende Code-Zellen, um sich mit zwei neuen Datentypen in Python vertraut zu machen, der Menge (`set`) und dem Tupel (`tuple`). Beiden sind der Liste sehr ähnlich, weichen jedoch in Details davon ab."
   ]
  },
  {
   "cell_type": "markdown",
   "metadata": {},
   "source": [
    "**Menge:**"
   ]
  },
  {
   "cell_type": "code",
   "execution_count": 12,
   "metadata": {
    "collapsed": false
   },
   "outputs": [
    {
     "name": "stdout",
     "output_type": "stream",
     "text": [
      "{1, 2, 3}\n",
      "<class 'set'>\n"
     ]
    }
   ],
   "source": [
    "some_set = {1,2,3,3}  # Elemente können nur einmal vorkommen\n",
    "print(some_set)\n",
    "print(type(some_set))"
   ]
  },
  {
   "cell_type": "code",
   "execution_count": 16,
   "metadata": {
    "collapsed": false
   },
   "outputs": [
    {
     "ename": "TypeError",
     "evalue": "'set' object does not support indexing",
     "output_type": "error",
     "traceback": [
      "\u001b[0;31m---------------------------------------------------------------------------\u001b[0m",
      "\u001b[0;31mTypeError\u001b[0m                                 Traceback (most recent call last)",
      "\u001b[0;32m<ipython-input-16-75e0b8a34c02>\u001b[0m in \u001b[0;36m<module>\u001b[0;34m()\u001b[0m\n\u001b[0;32m----> 1\u001b[0;31m \u001b[0msome_set\u001b[0m\u001b[0;34m[\u001b[0m\u001b[0;36m0\u001b[0m\u001b[0;34m]\u001b[0m\u001b[0;34m\u001b[0m\u001b[0m\n\u001b[0m",
      "\u001b[0;31mTypeError\u001b[0m: 'set' object does not support indexing"
     ]
    }
   ],
   "source": [
    "some_set[0]  # Mengen sind ungeordnet, Indizes machen daher keinen Sinn"
   ]
  },
  {
   "cell_type": "markdown",
   "metadata": {},
   "source": [
    "**Tupel:**"
   ]
  },
  {
   "cell_type": "code",
   "execution_count": 18,
   "metadata": {
    "collapsed": false
   },
   "outputs": [
    {
     "name": "stdout",
     "output_type": "stream",
     "text": [
      "(1, 2, 3)\n",
      "<class 'tuple'>\n"
     ]
    }
   ],
   "source": [
    "some_tuple = (1,2,3)\n",
    "print(some_tuple)\n",
    "print(type(some_tuple))"
   ]
  },
  {
   "cell_type": "code",
   "execution_count": 17,
   "metadata": {
    "collapsed": false
   },
   "outputs": [
    {
     "ename": "TypeError",
     "evalue": "'tuple' object does not support item assignment",
     "output_type": "error",
     "traceback": [
      "\u001b[0;31m---------------------------------------------------------------------------\u001b[0m",
      "\u001b[0;31mTypeError\u001b[0m                                 Traceback (most recent call last)",
      "\u001b[0;32m<ipython-input-17-670aa013699a>\u001b[0m in \u001b[0;36m<module>\u001b[0;34m()\u001b[0m\n\u001b[0;32m----> 1\u001b[0;31m \u001b[0msome_tuple\u001b[0m\u001b[0;34m[\u001b[0m\u001b[0;36m0\u001b[0m\u001b[0;34m]\u001b[0m \u001b[0;34m=\u001b[0m \u001b[0;36m2\u001b[0m\u001b[0;34m\u001b[0m\u001b[0m\n\u001b[0m",
      "\u001b[0;31mTypeError\u001b[0m: 'tuple' object does not support item assignment"
     ]
    }
   ],
   "source": [
    "some_tuple[0] = 2  # Tupel sind anders als Listen nicht veränderlich\n",
    "                   # Elementen kann nach der Initialisierung kein neuer Wert zugewiesen werden"
   ]
  },
  {
   "cell_type": "markdown",
   "metadata": {},
   "source": [
    "Mit diesen beiden Datentypen lässt sich die Graphen-Definition aus der Vorlesung sehr leicht in Python-Code übertragen. Der Einfachheit halber, stellen wir Knoten mit Itegern dar:"
   ]
  },
  {
   "cell_type": "code",
   "execution_count": 43,
   "metadata": {
    "collapsed": true
   },
   "outputs": [],
   "source": [
    "some_graph = ({1,2,3}, {(1,2), (2,3), (3,1), (1,3)})"
   ]
  },
  {
   "cell_type": "markdown",
   "metadata": {},
   "source": [
    "### a)\n",
    "\n",
    "(.../3 Punkten)\n",
    "\n",
    "Schreiben Sie eine Funktion, die überprüft, ob eine Eingabe ein Graph im Sinne der Vorlesung ist. Überprüfen Sie dafür, ob\n",
    "\n",
    "* Die Eingabe ein Tupel der Länge 2 ist,\n",
    "* dessen erste Komponente eine Menge ist, \n",
    "* die nur Integer enthält,\n",
    "* und dessen zweite Komponente eine Menge ist,\n",
    "* die nur Tupel enthält,\n",
    "* die auschließlich Integer enthält, die auch in der ersten Menge enthalten sind.\n",
    "\n",
    "Die Funktion soll einen Boolean zurückgeben. Tipp: Denken Sie daran, dass eine Python-Funktion mehrere `return`-Befehle enthalten kann und der Funktionsaufruf endet, sobald das erste `return` erreicht ist. Testen Sie Ihre Funktion mit `some_graph` (s.o.).\n",
    "\n",
    "Um zu überprüfen, ob eine Variable auf eine Menge, ein Tupel oder einen Integer zeigt, können Sie die Funktion `isinstance` verwenden:"
   ]
  },
  {
   "cell_type": "code",
   "execution_count": 39,
   "metadata": {
    "collapsed": false
   },
   "outputs": [
    {
     "name": "stdout",
     "output_type": "stream",
     "text": [
      "True\n",
      "True\n",
      "True\n",
      "False\n"
     ]
    }
   ],
   "source": [
    "print(isinstance(some_tuple, tuple))\n",
    "print(isinstance(some_set, set))\n",
    "print(isinstance(4, int))\n",
    "\n",
    "print(not isinstance(4, int))"
   ]
  },
  {
   "cell_type": "markdown",
   "metadata": {},
   "source": [
    "### Lösung:"
   ]
  },
  {
   "cell_type": "code",
   "execution_count": 1,
   "metadata": {
    "collapsed": true
   },
   "outputs": [],
   "source": [
    "def is_graph(x):\n",
    "    \n",
    "    # ============\n",
    "    # ....\n",
    "    # =============\n",
    "    \n",
    "    return True"
   ]
  },
  {
   "cell_type": "code",
   "execution_count": 53,
   "metadata": {
    "collapsed": false
   },
   "outputs": [
    {
     "data": {
      "text/plain": [
       "True"
      ]
     },
     "execution_count": 53,
     "metadata": {},
     "output_type": "execute_result"
    }
   ],
   "source": [
    "# Testlauf\n",
    "is_graph(some_graph)  # muss True ergeben"
   ]
  },
  {
   "cell_type": "markdown",
   "metadata": {},
   "source": [
    "## b)\n",
    "\n",
    "(... / 3 Punkten)\n",
    "\n",
    "Schreiben Sie eine Funktion, die einen Graph und einen Knoten (repräsentiert durch einen Integer) entgegennimmt und eine Liste aller Nachfolgerknoten zurückgibt.\n",
    "\n",
    "### Lösung:"
   ]
  },
  {
   "cell_type": "code",
   "execution_count": 49,
   "metadata": {
    "collapsed": true
   },
   "outputs": [],
   "source": [
    "def get_successors(G, k):\n",
    "    \n",
    "    successors = []\n",
    "    \n",
    "    # ============\n",
    "    # ....\n",
    "    # ============\n",
    "    \n",
    "    return successors\n",
    "    \n",
    "        "
   ]
  },
  {
   "cell_type": "code",
   "execution_count": 50,
   "metadata": {
    "collapsed": false
   },
   "outputs": [
    {
     "data": {
      "text/plain": [
       "[2, 3]"
      ]
     },
     "execution_count": 50,
     "metadata": {},
     "output_type": "execute_result"
    }
   ],
   "source": [
    "# Testlauf\n",
    "get_successors(some_graph, 1)  # muss [2,3] zurückgeben"
   ]
  },
  {
   "cell_type": "markdown",
   "metadata": {},
   "source": [
    "---"
   ]
  }
 ],
 "metadata": {
  "colab": {
   "collapsed_sections": [],
   "name": "cl1_blatt1_loesung.ipynb",
   "provenance": [],
   "version": "0.3.2"
  },
  "kernelspec": {
   "display_name": "Python 3",
   "language": "python",
   "name": "python3"
  },
  "language_info": {
   "codemirror_mode": {
    "name": "ipython",
    "version": 3
   },
   "file_extension": ".py",
   "mimetype": "text/x-python",
   "name": "python",
   "nbconvert_exporter": "python",
   "pygments_lexer": "ipython3",
   "version": "3.5.1"
  }
 },
 "nbformat": 4,
 "nbformat_minor": 0
}
