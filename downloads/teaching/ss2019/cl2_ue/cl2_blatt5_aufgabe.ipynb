{
 "cells": [
  {
   "cell_type": "markdown",
   "metadata": {
    "colab_type": "text",
    "id": "9wLM0LR7sQ3N"
   },
   "source": [
    "# Übung zur Vorlesung \"Computerlinguistik II\"\n",
    "---\n",
    "Sommersemester 2019\n",
    "\n",
    "Modulverantwortliche: Prof. Dr. Udo Hahn, Sven Büchel\n",
    "\n",
    "Lehrstuhl für Computerlingustik \n",
    "\n",
    "Friedrich-Schiller-Universität Jena\n",
    "\n"
   ]
  },
  {
   "cell_type": "markdown",
   "metadata": {
    "colab_type": "text",
    "id": "Oq1WYezetLS8"
   },
   "source": [
    "**Blatt 5 vom 11. Juni 2019: Maschinelles Lernen**\n",
    "\n",
    "Abgabe bis Sonntag, den **16. Juni 2019**, 23:59\n",
    "\n",
    "Per Email an sven.buechel@uni-jena.de\n",
    "\n",
    "---\n"
   ]
  },
  {
   "cell_type": "markdown",
   "metadata": {
    "colab_type": "text",
    "id": "aFejKkIct3V4"
   },
   "source": [
    "**Vorname:** ...\n",
    "\n",
    "** Name:** ...\n",
    "\n",
    "** Matrikelnummer:** ...\n",
    "\n",
    "---\n",
    "\n"
   ]
  },
  {
   "cell_type": "markdown",
   "metadata": {},
   "source": [
    "**Erreichte Punktzahl: .../10**\n",
    "\n",
    "-----"
   ]
  },
  {
   "cell_type": "markdown",
   "metadata": {
    "colab_type": "text",
    "id": "fvhgh7gSuShj"
   },
   "source": [
    "## Aufgabe 1: Matrizen\n",
    "** (... / 3 Punkten)**"
   ]
  },
  {
   "cell_type": "markdown",
   "metadata": {},
   "source": [
    "Gegeben seien folgende Matrizen.\n",
    "\n",
    "\\begin{equation}\n",
    "A =\n",
    "\\begin{pmatrix}\n",
    "1 & 2 \\\\\n",
    "3 & 4 \\\\\n",
    "\\end{pmatrix}\n",
    "\\end{equation}\n",
    "\n",
    "\\begin{equation}\n",
    "B = \n",
    "\\begin{pmatrix}\n",
    "-2 & 7 & 4 \\\\\n",
    "1 & -1 & 0 \\\\\n",
    "\\end{pmatrix}\n",
    "\\end{equation}\n",
    "\n",
    "\\begin{equation}\n",
    "C = \n",
    "\\begin{pmatrix}\n",
    "3 & 3\\\\\n",
    "4 & 4\\\\\n",
    "5 & 5\\\\\n",
    "\\end{pmatrix}\n",
    "\\end{equation}\n",
    "\n",
    "Berechnen Sie:"
   ]
  },
  {
   "cell_type": "markdown",
   "metadata": {},
   "source": [
    "**Lösung**\n",
    "\n",
    "\\begin{equation}\n",
    "A \\cdot A = \\dots\n",
    "\\end{equation}\n",
    "\n",
    "\\begin{equation}\n",
    "A^T \\cdot A = \\dots\n",
    "\\end{equation}\n",
    "\n",
    "\\begin{equation}\n",
    "A \\cdot A^T = \\dots\n",
    "\\end{equation}\n",
    "\n",
    "\\begin{equation}\n",
    "A \\cdot B = \\dots\n",
    "\\end{equation}\n",
    "\n",
    "\\begin{equation}\n",
    "A \\cdot C^T = \\dots\n",
    "\\end{equation}\n",
    "\n",
    "\\begin{equation}\n",
    "B \\cdot C = \\dots \n",
    "\\end{equation}"
   ]
  },
  {
   "cell_type": "markdown",
   "metadata": {},
   "source": [
    "---"
   ]
  },
  {
   "cell_type": "markdown",
   "metadata": {},
   "source": [
    "## Aufgabe 2: Anwendungen für Maschinelles Lernen\n",
    "\n",
    "**(... / 2 Punkten)**\n",
    "\n",
    "Ordnen Sie die vier Anwendungsszenarien, die in der Übung besprochen wurden (Fluggesellschaft, Post, Bibliothek, Spam-Emails), jeweils eines der Gebiete überwachtes Lernen, unüberwachtes Lernen oder halbüberwachtes Lernen zu. Begründen Sie ihre Antwort knapp. Was könnte jeweils als Merkmale und Labels dienen?"
   ]
  },
  {
   "cell_type": "markdown",
   "metadata": {},
   "source": [
    "### Lösung\n",
    "\n",
    "\n",
    "..."
   ]
  },
  {
   "cell_type": "markdown",
   "metadata": {},
   "source": [
    "---"
   ]
  },
  {
   "cell_type": "markdown",
   "metadata": {},
   "source": [
    "# Aufgabe 3: Dokumentenklassifikation mit kNN\n",
    "**(... / 5 Punkten)**\n",
    "\n",
    "Unten finden Sie sechs Dokumente, die entweder in die Kategorie \"musician\" oder \"chemical\" gehören. Ihre Aufgabe ist es, einen kNN-Klassifikator zu implementieren, der neue Dokumente auf Grundlage dieses Trainingsdatensatzes in eine der beide Klassen einteilt. Im Einzelnen müssen sie dazu\n",
    "\n",
    "* ... die sechs Dokumente in eine Bag-of-Words-Repräsentation überführen. Verwenden Sie dafür relative Unigram-Häufigkeiten. Die Feature-Matrix können Sie als eine Liste von Listen darstellen.\n",
    "\n",
    "* ... eine Funktion zur Bestimmung der nächsten Nachbarn implementieren. Verwenden Sie hierfür Kosinusähnlichkeit.\n",
    "\n",
    "* ... die unten stehende kNN-Funktion vervollständigen. Es reicht aus, wenn die Funktion jeweils nur ein neues Beispiel zur Zeit verarbeitet (also einen Merkmalsvektor, statt einer Merkmalsmatrix).\n",
    "\n",
    "* ... einen geeigneten Wert für $k$ auswählen (bitte knapp begründen).\n",
    "\n",
    "* ... einen Testlauf durchführen, bei dem Sie Ihren Klassifikator ein selbst gewähltes *neues* Dokument klassifizieren lassen."
   ]
  },
  {
   "cell_type": "code",
   "execution_count": null,
   "metadata": {
    "collapsed": true
   },
   "outputs": [],
   "source": [
    "d1 = \"\"\"Robert Nesta Marley, OM (6 February 1945 – 11 May 1981) was a Jamaican singer and songwriter. Considered one of the\n",
    "pioneers of reggae, his musical career was marked by blending elements of reggae, ska, and rocksteady, as well as \n",
    "forging a smooth and distinctive vocal and songwriting style. Marley's contributions to music increased the visibility \n",
    "of Jamaican music worldwide, and made him a global figure in popular culture for over a decade.  Born in Nine Mile, \n",
    "British Jamaica, Marley began his professional musical career in 1963, after forming Bob Marley & The Wailers. The \n",
    "group released its debut studio album The Wailing Wailers in 1965, which contained the single \"One Love/People Get \n",
    "Ready\"; the song was immensely popular, peaking in the top five on worldwide music charts, and established the group \n",
    "as a rising figure in reggae. The Wailers subsequently released eleven further studio albums; while initially employing\n",
    "louder instrumentation and singing, the group began engaging in rhythmic-based song construction in the late 1960s and \n",
    "early 1970s, which coincided with the singer's conversion to Rastafarianism. During this period Marley relocated to \n",
    "London, and the group typified their musical shift with the release of the album The Best of The Wailers (1971).  The \n",
    "group attained international success after the release of the albums Catch a Fire and Burnin' (both 1973), and forged a\n",
    "reputation as touring artists. A year later the Wailers disbanded, and Marley went on to release his solo material \n",
    "under the band's name. His debut studio album Natty Dread (1974) received positive reception, as did its follow-up \n",
    "Rastaman Vibration (1976). A few months after the album's release Marley survived an assassination attempt at his home \n",
    "in Jamaica, which prompted him to permanently relocate to London soon afterward. There he recorded the album Exodus \n",
    "(1977); it incorporated elements of blues, soul, and British rock, enjoyed widespread commercial success, and is widely\n",
    "considered one of the best albums of all time.  Over the course of his career Marley became known as a Rastafari icon, \n",
    "and the singer sought to infuse his music with a sense of spirituality. He is also considered a global symbol of \n",
    "Jamaican culture and identity, and was controversial in his outspoken support for the legalization of marijuana, while \n",
    "he also advocated for Pan-Africanism.  In 1977, Marley was diagnosed with acral lentiginous melanoma; he died as a \n",
    "result of the illness in 1981. His fans around the world expressed their grief, and he received a state funeral in \n",
    "Jamaica. The greatest hits album Legend was released in 1984, and subsequently became the best-selling reggae album of \n",
    "all-time. Marley also ranks as one of the best-selling music artists of all-time, with estimated sales of more than 75 \n",
    "million records worldwide, while his sound and style have influenced artists of various genres. He was posthumously \n",
    "honored by Jamaica soon after his death, as he was designated the nation's Order of Merit award.\n",
    "\"\"\"\n",
    "\n",
    "d2 = \"\"\"\n",
    "James Marshall \"Jimi\" Hendrix (born Johnny Allen Hendrix; November 27, 1942 – September 18, \n",
    "1970) was an American rock guitarist, singer, and songwriter. Although his mainstream career \n",
    "spanned only four years, he is widely regarded as one of the most influential electric \n",
    "guitarists in the history of popular music, and one of the most celebrated musicians of \n",
    "the 20th century. The Rock and Roll Hall of Fame describes him as \"arguably the greatest \n",
    "instrumentalist in the history of rock music\".[1] Born in Seattle, Washington, Hendrix \n",
    "began playing guitar at the age of 15. In 1961, he enlisted in the U.S. Army and trained \n",
    "as a paratrooper in the 101st Airborne Division; he was granted an honorable discharge the \n",
    "following year. Soon afterward, he moved to Clarksville, Tennessee, and began playing gigs \n",
    "on the Chitlin' Circuit, earning a place in the Isley Brothers' backing band and later with \n",
    "Little Richard, with whom he continued to work through mid-1965. He then played with Curtis \n",
    "Knight and the Squires before moving to England in late 1966 after being discovered by Linda \n",
    "Keith, who in turn interested bassist Chas Chandler of the Animals in becoming his first \n",
    "manager.[2] Within months, Hendrix had earned three UK top ten hits with the Jimi Hendrix \n",
    "Experience: \"Hey Joe\", \"Purple Haze\", and \"The Wind Cries Mary\". He achieved fame in the \n",
    "U.S. after his performance at the Monterey Pop Festival in 1967, and in 1968 his third and \n",
    "final studio album, Electric Ladyland, reached number one in the U.S.; it was Hendrix's \n",
    "most commercially successful release and his first and only number one album. The world's \n",
    "highest-paid performer, he headlined the Woodstock Festival in 1969 and the Isle of Wight \n",
    "Festival in 1970, before his accidental death from barbiturate-related asphyxia on September \n",
    "18, 1970, at the age of 27. Hendrix was inspired musically by American rock and roll and \n",
    "electric blues. He favored overdriven amplifiers with high volume and gain, and was \n",
    "instrumental in popularizing the previously undesirable sounds caused by guitar amplifier \n",
    "feedback. He was also one of the first guitarists to make extensive use of tone-altering \n",
    "effects units, such as fuzz tone, Octavia, wah-wah, and Uni-Vibe in mainstream rock. He was \n",
    "the first artist to use stereophonic phasing effects in music recordings. Holly George-Warren \n",
    "of Rolling Stone commented: \"Hendrix pioneered the use of the instrument as an electronic \n",
    "sound source. Players before him had experimented with feedback and distortion, but Hendrix \n",
    "turned those effects and others into a controlled, fluid vocabulary every bit as personal as \n",
    "the blues with which he began.\"[3] Hendrix was the recipient of several music awards during \n",
    "his lifetime and posthumously. In 1967, readers of Melody Maker voted him the Pop Musician \n",
    "of the Year, and in 1968, Rolling Stone declared him the Performer of the Year. Disc and \n",
    "Music Echo honored him with the World Top Musician of 1969 and in 1970, Guitar Player named \n",
    "him the Rock Guitarist of the Year. The Jimi Hendrix Experience was inducted into the Rock \n",
    "and Roll Hall of Fame in 1992 and the UK Music Hall of Fame in 2005. Rolling Stone ranked the \n",
    "band's three studio albums, Are You Experienced, Axis: Bold as Love, and Electric Ladyland, \n",
    "among the 100 greatest albums of all time, and they ranked Hendrix as the greatest guitarist \n",
    "and the sixth greatest artist of all time.\n",
    "\"\"\"\n",
    "\n",
    "d3 = \"\"\"\n",
    "Tracy Chapman (born March 30, 1964) is an American singer-songwriter, known for her hits \n",
    "\"Fast Car\" and \"Give Me One Reason\", along with other singles \"Talkin' 'bout a Revolution\", \n",
    "\"Baby Can I Hold You\", \"Crossroads\", \"New Beginning\", and \"Telling Stories\". She is a \n",
    "multi-platinum and four-time Grammy Award–winning artist.[1] Chapman was signed to Elektra\n",
    "Records by Bob Krasnow in 1987. The following year she released her critically acclaimed \n",
    "debut album Tracy Chapman, which became a multi-platinum worldwide hit. The album garnered \n",
    "Chapman six Grammy Award nominations, including Album of the Year, three of which she won, \n",
    "including Best Female Pop Vocal Performance for her single \"Fast Car\", and Best New Artist. \n",
    "Chapman released her second album Crossroads the following year, which garnered her an \n",
    "additional Grammy nomination. Since then, Chapman has experienced further success with six \n",
    "more studio albums, which include her multi-platinum fourth album New Beginning, for which \n",
    "she won a fourth Grammy Award, for Best Rock Song, for its lead single \"Give Me One Reason\". \n",
    "Chapman's most recent release is Our Bright Future, in 2008.\n",
    "\"\"\"\n",
    "\n",
    "d4 = \"\"\"\n",
    "Sulfuric acid (alternative spelling sulphuric acid), also known as vitriol, is a mineral \n",
    "acid composed of the elements sulfur, oxygen and hydrogen, with molecular formula H2SO4. \n",
    "It is a colorless, odorless, and syrupy liquid that is soluble in water and is synthesized \n",
    "in reactions that are highly exothermic.[5] Its corrosiveness can be mainly ascribed to \n",
    "its strong acidic nature, and, if at a high concentration, its dehydrating and oxidizing \n",
    "properties. It is also hygroscopic, readily absorbing water vapor from the air.[5] Upon \n",
    "contact, sulfuric acid can cause severe chemical burns and even secondary thermal burns; \n",
    "it is very dangerous even at moderate concentrations.[6][7] Sulfuric acid is a very \n",
    "important commodity chemical, and a nation's sulfuric acid production is a good indicator\n",
    "of its industrial strength.[8] It is widely produced with different methods, such as \n",
    "contact process, wet sulfuric acid process, lead chamber process and some other methods.[9]\n",
    "Sulfuric acid is also a key substance in the chemical industry. It is most commonly used\n",
    "in fertilizer manufacture,[10] but is also important in mineral processing, oil refining,\n",
    "wastewater processing, and chemical synthesis. It has a wide range of end applications\n",
    "including in domestic acidic drain cleaners,[11] as an electrolyte in lead-acid batteries,\n",
    "and in various cleaning agents.\n",
    "\"\"\"\n",
    "\n",
    "d5 = \"\"\"\n",
    "Water is a transparent, tasteless, odorless, and nearly colorless chemical substance, which\n",
    "is the main constituent of Earth's streams, lakes, and oceans, and the fluids of most living\n",
    "organisms. It is vital for all known forms of life, even though it provides no calories or\n",
    "organic nutrients. Its chemical formula is H2O, meaning that each of its molecules contains\n",
    "one oxygen and two hydrogen atoms, connected by covalent bonds. Water is the name of the\n",
    "liquid state of H2O at standard ambient temperature and pressure. It forms precipitation\n",
    "in the form of rain and aerosols in the form of fog. Clouds are formed from suspended droplets\n",
    "of water and ice, its solid state. When finely divided, crystalline ice may precipitate in\n",
    "the form of snow. The gaseous state of water is steam or water vapor. Water moves continually\n",
    "through the water cycle of evaporation, transpiration (evapotranspiration), condensation,\n",
    "precipitation, and runoff, usually reaching the sea. Water covers 71% of the Earth's \n",
    "surface, mostly in seas and oceans.[1] Small portions of water occur as groundwater (1.7%), \n",
    "in the glaciers and the ice caps of Antarctica and Greenland (1.7%), and in the air as \n",
    "vapor, clouds (formed of ice and liquid water suspended in air), and precipitation (0.001%).\n",
    "Water plays an important role in the world economy. Approximately 70% of the freshwater \n",
    "used by humans goes to agriculture.[4] Fishing in salt and fresh water bodies is a major \n",
    "source of food for many parts of the world. Much of long-distance trade of commodities \n",
    "(such as oil and natural gas) and manufactured products is transported by boats through \n",
    "seas, rivers, lakes, and canals. Large quantities of water, ice, and steam are used for \n",
    "cooling and heating, in industry and homes. Water is an excellent solvent for a wide \n",
    "variety of chemical substances; as such it is widely used in industrial processes, and in\n",
    "cooking and washing. Water is also central to many sports and other forms of entertainment, \n",
    "such as swimming, pleasure boating, boat racing, surfing, sport fishing, and diving.\n",
    "\"\"\"\n",
    "\n",
    "d6 = \"\"\"\n",
    "Gypsum is a soft sulfate mineral composed of calcium sulfate dihydrate, with the chemical\n",
    "formula CaSO4·2H2O.[3] It is widely mined and is used as a fertilizer and as the main \n",
    "constituent in many forms of plaster, blackboard chalk and wallboard. A massive fine-grained \n",
    "white or lightly tinted variety of gypsum, called alabaster, has been used for sculpture \n",
    "by many cultures including Ancient Egypt, Mesopotamia, Ancient Rome, the Byzantine Empire \n",
    "and the Nottingham alabasters of Medieval England. Gypsum also crystallizes as beautiful \n",
    "translucent crystals of selenite (mineral). It also forms as an evaporite mineral and as a \n",
    "hydration product of anhydrite. The Mohs scale of mineral hardness defines hardness value 2\n",
    "as gypsum based on scratch hardness comparison.\n",
    "\"\"\""
   ]
  },
  {
   "cell_type": "code",
   "execution_count": null,
   "metadata": {
    "collapsed": true
   },
   "outputs": [],
   "source": [
    "instances = [d1, d2, d3, d4, d5, d6]\n",
    "labels = [0, 0 ,0, 1, 1, 1]"
   ]
  },
  {
   "cell_type": "markdown",
   "metadata": {
    "collapsed": false
   },
   "source": [
    "### Lösung:\n"
   ]
  },
  {
   "cell_type": "code",
   "execution_count": null,
   "metadata": {
    "collapsed": true
   },
   "outputs": [],
   "source": [
    "# code goes here \n",
    "\n",
    "def kNN(features, labels, new_instance, k):\n",
    "    pass # code goes here\n",
    "    return new_label"
   ]
  },
  {
   "cell_type": "code",
   "execution_count": 2,
   "metadata": {
    "collapsed": true
   },
   "outputs": [],
   "source": [
    "# Testlauf\n",
    "# ..."
   ]
  },
  {
   "cell_type": "markdown",
   "metadata": {},
   "source": [
    "---"
   ]
  }
 ],
 "metadata": {
  "colab": {
   "collapsed_sections": [],
   "name": "cl1_blatt1_loesung.ipynb",
   "provenance": [],
   "version": "0.3.2"
  },
  "kernelspec": {
   "display_name": "Python 3",
   "language": "python",
   "name": "python3"
  },
  "language_info": {
   "codemirror_mode": {
    "name": "ipython",
    "version": 3
   },
   "file_extension": ".py",
   "mimetype": "text/x-python",
   "name": "python",
   "nbconvert_exporter": "python",
   "pygments_lexer": "ipython3",
   "version": "3.5.1"
  }
 },
 "nbformat": 4,
 "nbformat_minor": 0
}
