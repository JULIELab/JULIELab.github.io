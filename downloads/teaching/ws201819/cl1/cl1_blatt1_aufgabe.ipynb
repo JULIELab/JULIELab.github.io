{
 "cells": [
  {
   "cell_type": "markdown",
   "metadata": {
    "colab_type": "text",
    "id": "9wLM0LR7sQ3N"
   },
   "source": [
    "# Übung zur Vorlesung \"Computerlinguistik I\"\n",
    "---\n",
    "Wintersemester 2018/19\n",
    "\n",
    "Modulverantwortliche: Prof. Dr. Udo Hahn, Sven Büchel\n",
    "\n",
    "Lehrstuhl für Computerlingustik \n",
    "\n",
    "Friedrich-Schiller-Universität Jena\n",
    "\n"
   ]
  },
  {
   "cell_type": "markdown",
   "metadata": {
    "colab_type": "text",
    "id": "Oq1WYezetLS8"
   },
   "source": [
    "Blatt 1 vom 12. November 2018\n",
    "\n",
    "Abgabe bis Sonntag, den 18. November 2018, 23:59\n",
    "\n",
    "Per Email an sven.buechel@uni-jena.de\n",
    "\n",
    "---\n"
   ]
  },
  {
   "cell_type": "markdown",
   "metadata": {
    "colab_type": "text",
    "id": "aFejKkIct3V4"
   },
   "source": [
    "**Vorname:** ...\n",
    "\n",
    "** Name:** ...\n",
    "\n",
    "** Matrikelnummer:** ...\n",
    "\n",
    "---\n",
    "\n"
   ]
  },
  {
   "cell_type": "markdown",
   "metadata": {
    "colab_type": "text",
    "id": "fvhgh7gSuShj"
   },
   "source": [
    "## Aufgabe 1: Agrammatikalität\n",
    "(5 Punkte)\n",
    "\n",
    "Identifizieren Sie die linguistische Ebene (Phonologie/Graphemik, Morphologie, Syntax, Semantik, \n",
    "Pragmatik), auf der die folgenden Sätze jeweils eine Agrammatikalität aufweisen.\n",
    " \n",
    "\n",
    "\n",
    "1.  \\* Der Computer hatte sein Passwort vergessen.\n",
    "2.   \\* George Washington plant eine Rede zur Lage im Irak.\n",
    "3. \\*Hölzernhäuser gelten als besonders nachhaltig.\n",
    "4. \\*Er ihm gab 20 Euro.\n",
    "5. \\*Colorless green ideas sleep furiously.\n",
    "\n",
    "\n"
   ]
  },
  {
   "cell_type": "markdown",
   "metadata": {
    "colab_type": "text",
    "id": "iY3H4G7XtCk_"
   },
   "source": [
    "### Lösung\n",
    "\n",
    "...\n",
    "\n",
    "---\n"
   ]
  },
  {
   "cell_type": "markdown",
   "metadata": {
    "colab_type": "text",
    "id": "e7KI_HmGwIZj"
   },
   "source": [
    "## Aufgabe 2: Programmierung\n",
    "(5 Punkte)\n",
    "\n",
    "Erstellen Sie ein Programm, dass die beiden Strings \"es regnet\" und \"die Sonne scheint\" in jeweils einer Variable speichert. Benutzen Sie Slicing, um jeweils eine Liste zu erstellen, die die einzelnen Wörter der Strings als Elemente enthält. Überprüfen Sie, ob beide Listen dieselbe Länge haben. Geben Sie das Ergebnis des Vergleichs aus."
   ]
  },
  {
   "cell_type": "markdown",
   "metadata": {
    "colab_type": "text",
    "id": "0KUKMGj7xZZ2"
   },
   "source": [
    "### Lösung\n"
   ]
  },
  {
   "cell_type": "code",
   "execution_count": 0,
   "metadata": {
    "colab": {},
    "colab_type": "code",
    "collapsed": true,
    "id": "v-g4T2jTxf39"
   },
   "outputs": [],
   "source": [
    "# code goes here\n"
   ]
  },
  {
   "cell_type": "markdown",
   "metadata": {
    "colab_type": "text",
    "id": "4Rhzq3GdxfGQ"
   },
   "source": [
    "---"
   ]
  }
 ],
 "metadata": {
  "colab": {
   "collapsed_sections": [],
   "name": "cl1_blatt1_loesung.ipynb",
   "provenance": [],
   "version": "0.3.2"
  },
  "kernelspec": {
   "display_name": "Python 3",
   "language": "python",
   "name": "python3"
  },
  "language_info": {
   "codemirror_mode": {
    "name": "ipython",
    "version": 3
   },
   "file_extension": ".py",
   "mimetype": "text/x-python",
   "name": "python",
   "nbconvert_exporter": "python",
   "pygments_lexer": "ipython3",
   "version": "3.5.1"
  }
 },
 "nbformat": 4,
 "nbformat_minor": 0
}
