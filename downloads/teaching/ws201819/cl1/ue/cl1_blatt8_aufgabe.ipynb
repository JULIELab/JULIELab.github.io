{
 "cells": [
  {
   "cell_type": "markdown",
   "metadata": {
    "colab_type": "text",
    "id": "9wLM0LR7sQ3N"
   },
   "source": [
    "# Übung zur Vorlesung \"Computerlinguistik I\"\n",
    "---\n",
    "Wintersemester 2018/19\n",
    "\n",
    "Modulverantwortliche: Prof. Dr. Udo Hahn, Sven Büchel\n",
    "\n",
    "Lehrstuhl für Computerlingustik \n",
    "\n",
    "Friedrich-Schiller-Universität Jena\n",
    "\n"
   ]
  },
  {
   "cell_type": "markdown",
   "metadata": {
    "colab_type": "text",
    "id": "Oq1WYezetLS8"
   },
   "source": [
    "**Blatt 8 vom 17. Januar 2019: Grammatiken**\n",
    "\n",
    "Abgabe bis Sonntag, den **27. Januar 2019**, 23:59\n",
    "\n",
    "Per Email an sven.buechel@uni-jena.de\n",
    "\n",
    "---\n"
   ]
  },
  {
   "cell_type": "markdown",
   "metadata": {
    "colab_type": "text",
    "id": "aFejKkIct3V4"
   },
   "source": [
    "**Vorname:** ...\n",
    "\n",
    "** Name:** ...\n",
    "\n",
    "** Matrikelnummer:** ...\n",
    "\n",
    "---\n",
    "\n"
   ]
  },
  {
   "cell_type": "markdown",
   "metadata": {},
   "source": [
    "**Erreichte Punktzahl: .../10**\n",
    "\n",
    "-----"
   ]
  },
  {
   "cell_type": "markdown",
   "metadata": {},
   "source": [
    "## Einige hilfreiche LaTeX-Befehle\n",
    "\n",
    "* $\\Rightarrow$\n",
    "* $\\longrightarrow$\n",
    "\n",
    "\n",
    "----"
   ]
  },
  {
   "cell_type": "markdown",
   "metadata": {
    "colab_type": "text",
    "id": "fvhgh7gSuShj"
   },
   "source": [
    "## Aufgabe 1: Ableitungen\n",
    "(.../2 Punkten)\n",
    "\n",
    "\n",
    "Gegeben sei die Grammatik $G = (N, T, P, S)$ mit:\n",
    "\n",
    "\\begin{align}\n",
    "N &= \\{S, C\\}, \\\\\n",
    "T &= \\{a, c\\},\\\\\n",
    "P &= \\{S \\longrightarrow Cc, C \\longrightarrow Cc, C \\longrightarrow a\\}\\\\\n",
    "\\end{align}\n",
    "\n",
    "\n",
    "### a)\n",
    "(.../1 Punkten)\n",
    "\n",
    "Um eine Grammatik welchen Typs handelt es sich?\n",
    "\n",
    "\n",
    "**Lösung:**\n",
    "...\n",
    "\n",
    "\n",
    "\n",
    "### b)\n",
    "(.../1 Punkten)\n",
    "\n",
    "Geben Sie die Schritte an, mit denen $S$ zu $accc$ abgeleitet werden kann. Geben Sie zu jedem Ableitungsschritt auch die dazugehörige Produktionsregel an.\n",
    "\n",
    "\n",
    "\n",
    "**Lösung:**\n",
    "...\n"
   ]
  },
  {
   "cell_type": "markdown",
   "metadata": {},
   "source": [
    "---"
   ]
  },
  {
   "cell_type": "markdown",
   "metadata": {},
   "source": [
    "## Aufgabe 2: Grammatiken und Sprachen\n",
    "(.../6 Punkten)\n",
    "\n",
    "### a)\n",
    "(.../2 Punkten)\n",
    "\n",
    "Geben Sie eine Typ-3-Grammatik für die folgende Sprache an: \n",
    "$ L_1 = a^n b^m,\\ n,m \\geq 1 $\n",
    "\n",
    "**Lösung:**\n",
    "...\n",
    "\n",
    "### b) \n",
    "(.../2 Punkten)\n",
    "\n",
    "Geben Sie eine Typ-2-Grammatik an, die die folgende Sprache erzeugt: \n",
    "$ L_2 = a^n b^m a^n,\\ n,m \\geq 1 $\n",
    "\n",
    "**Lösung:**\n",
    "...\n",
    "\n",
    "\n",
    "### c)\n",
    "(.../2 Punkten)\n",
    "\n",
    "Geben Sie eine Typ-2-Grammatik an, die die folgende Sprache erzeugt: \n",
    "$ L_3 = a^n b^n a^m b^m,\\ n, m \\geq 1 $ \n",
    "\n",
    "**Lösung:**\n",
    "...\n"
   ]
  },
  {
   "cell_type": "markdown",
   "metadata": {},
   "source": [
    "---"
   ]
  },
  {
   "cell_type": "markdown",
   "metadata": {},
   "source": [
    "## Aufgabe 3: Programmieren\n",
    "(.../2 Punkte)\n",
    "\n",
    "Nachfolgend finden Sie die **noch unvollständige** Python-Funktion ```cfg```, die zufällig Wörter einer gegebenen Grammatik erzeugt. Wiederholte Aufrufe von ```cfg``` werden also unterschiedliche Ergebnisse geben. \n",
    "\n",
    "Die Funktion ```cfg``` greift auf die beiden Hilfsfunktionen ```finde_positionen``` und ```test_ob_fertig``` zurück, die noch nicht implementiert sind. Sie müssen also den Code von ```cfg``` lesen und erschließen, was die beiden Hilfsfunktionen leisten müssen.\n",
    "\n",
    "Hinweis: Achten Sie darauf, dass Sie alle Codezellen nacheinander (von oben nach unten) ausführen müssen, damit das Programm richtig läuft.\n"
   ]
  },
  {
   "cell_type": "markdown",
   "metadata": {},
   "source": [
    "### a) \n",
    "(.../1 Punkten)\n",
    "\n",
    "Implementieren Sie ```finde_positionen```."
   ]
  },
  {
   "cell_type": "markdown",
   "metadata": {},
   "source": [
    "### b) \n",
    "(.../1 Punkten)\n",
    "\n",
    "Implementieren Sie ```test_ob_fertig```. Sie können dafür auf Ihre Lösung aus Aufgabe a) zurückgreifen."
   ]
  },
  {
   "cell_type": "code",
   "execution_count": 5,
   "metadata": {
    "collapsed": false
   },
   "outputs": [],
   "source": [
    "def finde_positionen(wort, zeichen_liste):\n",
    "    \n",
    "    #### LÖSUNG #######\n",
    "    pass   # \"tue nichts\". Bitte löschen."
   ]
  },
  {
   "cell_type": "code",
   "execution_count": 4,
   "metadata": {
    "collapsed": true
   },
   "outputs": [],
   "source": [
    "def test_ob_fertig(wort, zeichen_liste):\n",
    "    \n",
    "    #### LÖSUNG #######\n",
    "    pass"
   ]
  },
  {
   "cell_type": "code",
   "execution_count": 8,
   "metadata": {
    "collapsed": false
   },
   "outputs": [
    {
     "name": "stdout",
     "output_type": "stream",
     "text": [
      "S\n",
      "b\n"
     ]
    }
   ],
   "source": [
    "from random import choice # die Funktion choice zieht zufällig ein Element aus einer Liste\n",
    "\n",
    "def cfg(N, T, P, S):\n",
    "    \"\"\"\n",
    "    N........Liste von Zeichen (Strings der Länge 1)\n",
    "    T........Liste von Zeichen (Strings der Länge 1)\n",
    "    P........Dictionary: Zeichen -> Liste von Strings. \n",
    "             Das Dictionary {\"S\":[\"a\", \"b\"]} kodiert zum Beispiel die beiden \n",
    "             Regeln S --> a und S --> b\n",
    "    S........String. Ein einzelnes Zeichen aus N.\n",
    "    \"\"\"\n",
    "    wort = S\n",
    "    fertig = False\n",
    "    \n",
    "    while not fertig:\n",
    "        print(wort)\n",
    "        \n",
    "        # finde alle positionen im Wort an denen Nichtterminalsymbole stehen\n",
    "        positionen = finde_positionen(wort, N) # gibt Liste von Integern zurück\n",
    "        position = choice(positionen) # Sucht aus der Liste <positionen> zufällig einen Element aus\n",
    "        \n",
    "        # suche alle positionen, die das Symbol an der stelle <position>\n",
    "        # auf der rechten Seite haben\n",
    "        rechte_seiten = P[wort[position]]\n",
    " \n",
    "        \n",
    "        # führe zufällig eine dieser Regeln aus, indem die rechte Seite \n",
    "        # der Regel statt der linken Seite in <wort> geschrieben wird\n",
    "        rechts = choice(rechte_seiten) #dict.keys() gibt alle Schlüssel des dictionaries\n",
    "        wort = wort[:position] + rechts + wort[position+1:]\n",
    "        \n",
    "        # prüfe ob fertig\n",
    "        fertig = test_ob_fertig(wort, N) # gibt True, wenn in <wort> keine Nichtterminalsymoble mehr enthalten sind\n",
    "        \n",
    "    return wort\n",
    "\n",
    "# Probelauf\n",
    "N = [\"S\", \"A\"]\n",
    "T = [\"a\", \"b\", \"c\"]\n",
    "P = {\"S\":[\"SS\",\"a\", \"b\", \"c\"]}\n",
    "S = \"S\"\n",
    "\n",
    "print(cfg(N, T, P, S))"
   ]
  },
  {
   "cell_type": "markdown",
   "metadata": {
    "collapsed": true
   },
   "source": [
    "----"
   ]
  }
 ],
 "metadata": {
  "colab": {
   "collapsed_sections": [],
   "name": "cl1_blatt1_loesung.ipynb",
   "provenance": [],
   "version": "0.3.2"
  },
  "kernelspec": {
   "display_name": "Python 3",
   "language": "python",
   "name": "python3"
  },
  "language_info": {
   "codemirror_mode": {
    "name": "ipython",
    "version": 3
   },
   "file_extension": ".py",
   "mimetype": "text/x-python",
   "name": "python",
   "nbconvert_exporter": "python",
   "pygments_lexer": "ipython3",
   "version": "3.5.1"
  }
 },
 "nbformat": 4,
 "nbformat_minor": 0
}
