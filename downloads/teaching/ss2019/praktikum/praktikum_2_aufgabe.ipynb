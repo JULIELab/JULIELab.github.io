{
 "cells": [
  {
   "cell_type": "markdown",
   "metadata": {
    "colab_type": "text",
    "id": "9wLM0LR7sQ3N"
   },
   "source": [
    "# Softwaretechnologien für Natürlichsprachliche System\n",
    "---\n",
    "Sommersemester 2019\n",
    "\n",
    "Modulverantwortliche: Prof. Dr. Udo Hahn, Sven Büchel\n",
    "\n",
    "Lehrstuhl für Computerlingustik \n",
    "\n",
    "Friedrich-Schiller-Universität Jena\n",
    "\n"
   ]
  },
  {
   "cell_type": "markdown",
   "metadata": {
    "colab_type": "text",
    "id": "Oq1WYezetLS8"
   },
   "source": [
    "**Blatt 2 vom 9. Mai 2019: Lokales Setup**\n",
    "\n",
    "Abgabe bis Dienstag, den **14. Mai 2019**, 23:59\n",
    "\n",
    "Per Email an sven.buechel@uni-jena.de\n",
    "\n",
    "---\n"
   ]
  },
  {
   "cell_type": "markdown",
   "metadata": {
    "colab_type": "text",
    "id": "aFejKkIct3V4"
   },
   "source": [
    "**Vorname:** ...\n",
    "\n",
    "** Name:** ...\n",
    "\n",
    "** Matrikelnummer:** ...\n",
    "\n",
    "---\n",
    "\n"
   ]
  },
  {
   "cell_type": "markdown",
   "metadata": {},
   "source": [
    "**Erreichte Punktzahl: .../10**\n",
    "\n",
    "---"
   ]
  },
  {
   "cell_type": "markdown",
   "metadata": {
    "colab_type": "text",
    "id": "fvhgh7gSuShj"
   },
   "source": [
    "## Aufgabe 1: Umgang mit der Kommandozeile\n",
    "** (.../8 Punkten)**\n",
    "\n",
    "Recherchieren Sie die folgenden zentralen Befehle für die Kommandozeilenumgebung Ihres jeweiligen Betriebssystems. Geben Sie jeweils auch ein Beispiel an, das die vollständige Syntax des jeweilgen Befehls zeigt:\n",
    "\n",
    "* Pfad des aktuellen Arbeitsverzeichnisses anzeigen: ...\n",
    "* Inhalt des Arbeitsverzeichnisses anzeigen lassen: ...\n",
    "* Verzeichnis wechseln: ...\n",
    "* neue Datei anlegen: ...\n",
    "* Datei verschieben: ...\n",
    "* Datei umbenennen: ...\n",
    "* Datei löschen: ...\n",
    "* Verzeichnis anlegen: ...\n",
    "* Verzeichnis löschen: ...\n",
    "    * Vorsicht, bitte wirklich nur das gewollte Verzeichnis löschen!\n",
    "* Dateiinhalt anzeigen: ...\n",
    "\n"
   ]
  },
  {
   "cell_type": "markdown",
   "metadata": {},
   "source": [
    "---\n",
    "## Aufgabe 2: Conda Umgebung erstellen\n",
    "** (.../2 Punkten)**\n",
    "\n",
    "Legen Sie eine Conda Umgebung namens \"praktikum19\" mit folgenden Abhänigkeiten an: numpy, pandas, scipy, scikit-learn, matplotlib, nltk, jupyter.\n",
    "Die Python-Version soll 3.6 sein.\n",
    "\n",
    "Zum Nachweis aktivieren Sie die Umgebung und kopieren die Ausgabe von `conda list` hier rein in den Lösungsteil dieser Aufgabe.\n",
    "\n",
    "### Lösung\n",
    "..."
   ]
  },
  {
   "cell_type": "markdown",
   "metadata": {},
   "source": [
    "---"
   ]
  }
 ],
 "metadata": {
  "colab": {
   "collapsed_sections": [],
   "name": "cl1_blatt1_loesung.ipynb",
   "provenance": [],
   "version": "0.3.2"
  },
  "kernelspec": {
   "display_name": "Python 3",
   "language": "python",
   "name": "python3"
  },
  "language_info": {
   "codemirror_mode": {
    "name": "ipython",
    "version": 3
   },
   "file_extension": ".py",
   "mimetype": "text/x-python",
   "name": "python",
   "nbconvert_exporter": "python",
   "pygments_lexer": "ipython3",
   "version": "3.5.1"
  }
 },
 "nbformat": 4,
 "nbformat_minor": 0
}
