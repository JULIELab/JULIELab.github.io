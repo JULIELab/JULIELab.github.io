{
 "cells": [
  {
   "cell_type": "markdown",
   "metadata": {
    "colab_type": "text",
    "id": "9wLM0LR7sQ3N"
   },
   "source": [
    "# Übung zur Vorlesung \"Computerlinguistik I\"\n",
    "---\n",
    "Wintersemester 2018/19\n",
    "\n",
    "Modulverantwortliche: Prof. Dr. Udo Hahn, Sven Büchel\n",
    "\n",
    "Lehrstuhl für Computerlingustik \n",
    "\n",
    "Friedrich-Schiller-Universität Jena\n",
    "\n"
   ]
  },
  {
   "cell_type": "markdown",
   "metadata": {
    "colab_type": "text",
    "id": "Oq1WYezetLS8"
   },
   "source": [
    "**Blatt 8 vom 21. Januar 2019: Zwei-Ebenen-Morphologie**\n",
    "\n",
    "Abgabe bis Sonntag, den **27. Januar 2019**, 23:59\n",
    "\n",
    "Per Email an sven.buechel@uni-jena.de\n",
    "\n",
    "---\n"
   ]
  },
  {
   "cell_type": "markdown",
   "metadata": {
    "colab_type": "text",
    "id": "aFejKkIct3V4"
   },
   "source": [
    "**Vorname:** ...\n",
    "\n",
    "** Name:** ...\n",
    "\n",
    "** Matrikelnummer:** ...\n",
    "\n",
    "---\n",
    "\n"
   ]
  },
  {
   "cell_type": "markdown",
   "metadata": {},
   "source": [
    "**Erreichte Punktzahl: .../10**\n",
    "\n",
    "-----"
   ]
  },
  {
   "cell_type": "markdown",
   "metadata": {
    "colab_type": "text",
    "id": "fvhgh7gSuShj"
   },
   "source": [
    "## Aufgabe 1: Transduktoren und Automaten\n",
    "(.../2 Punkten)\n",
    "\n",
    "In der Vorlesung wurden endliche Transduktoren vorgestellt. Vergleichen Sie: Was haben Transduktoren mit den zuvor vorgestellen endlichen Automaten gemein, was unterscheidet sie?\n",
    "\n",
    "**Lösung:**\n",
    "...\n"
   ]
  },
  {
   "cell_type": "markdown",
   "metadata": {},
   "source": [
    "---"
   ]
  },
  {
   "cell_type": "markdown",
   "metadata": {},
   "source": [
    "## Aufgabe 2: Tries\n",
    "(.../2 Punkten)\n",
    "\n",
    "Geben Sie einen Trie an, der die Wörter *city*, *study*, *citation* und *sturdy* kodiert.\n",
    "\n",
    "**Lösung:**\n",
    "\n",
    "...\n"
   ]
  },
  {
   "cell_type": "markdown",
   "metadata": {},
   "source": [
    "---"
   ]
  },
  {
   "cell_type": "markdown",
   "metadata": {},
   "source": [
    "## Aufgabe 3: Transduktor für y-Ersetzung\n",
    "(.../6 Punkte)\n",
    "\n",
    "In den folgenden Teilaufgaben erstellen Sie eine Architektur für die Zwei-Ebenen-Morphologie, die englische Wörter wie *city*, *study*, *country*, usw. korrekt in ihre Pluralformen überführt (*cities*, *studies*, *countries*,...). "
   ]
  },
  {
   "cell_type": "markdown",
   "metadata": {},
   "source": [
    "### a) \n",
    "(.../2 Punkten)\n",
    "\n",
    "Entwerfen Sie einen lexical-to-intermediate-Transduktor in Graphnotation mit integriertem Lexikon als Trie. Der Trie soll mindestens die Wörter *city*, *study* und *bicycle* abdecken.\n",
    "\n",
    "**Lösung:**\n",
    "..."
   ]
  },
  {
   "cell_type": "markdown",
   "metadata": {},
   "source": [
    "### b) \n",
    "(.../2 Punkten)\n",
    "\n",
    "Entwerfen Sie einen passenden intermediate-to-surface-Transduktor (ebenfalls in Graphnotation).\n",
    "\n",
    "**Lösung:**\n",
    "..."
   ]
  },
  {
   "cell_type": "markdown",
   "metadata": {},
   "source": [
    "### c)\n",
    "(.../2 Punkten)\n",
    "\n",
    "Führen Sie einen Beispiellauf durch, bei dem Sie das Wort *city* korrekt in den Plural setzen.\n",
    "\n",
    "**Lösung:**\n",
    "...\n",
    "\n"
   ]
  },
  {
   "cell_type": "markdown",
   "metadata": {
    "collapsed": true
   },
   "source": [
    "----"
   ]
  }
 ],
 "metadata": {
  "colab": {
   "collapsed_sections": [],
   "name": "cl1_blatt1_loesung.ipynb",
   "provenance": [],
   "version": "0.3.2"
  },
  "kernelspec": {
   "display_name": "Python 3",
   "language": "python",
   "name": "python3"
  },
  "language_info": {
   "codemirror_mode": {
    "name": "ipython",
    "version": 3
   },
   "file_extension": ".py",
   "mimetype": "text/x-python",
   "name": "python",
   "nbconvert_exporter": "python",
   "pygments_lexer": "ipython3",
   "version": "3.5.1"
  }
 },
 "nbformat": 4,
 "nbformat_minor": 0
}
