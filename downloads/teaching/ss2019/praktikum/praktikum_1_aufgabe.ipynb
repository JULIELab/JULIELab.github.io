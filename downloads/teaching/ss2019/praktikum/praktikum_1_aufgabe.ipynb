{
 "cells": [
  {
   "cell_type": "markdown",
   "metadata": {
    "colab_type": "text",
    "id": "9wLM0LR7sQ3N"
   },
   "source": [
    "# Softwaretechnologien für Natürlichsprachliche System\n",
    "---\n",
    "Sommersemester 2019\n",
    "\n",
    "Modulverantwortliche: Prof. Dr. Udo Hahn, Sven Büchel\n",
    "\n",
    "Lehrstuhl für Computerlingustik \n",
    "\n",
    "Friedrich-Schiller-Universität Jena\n",
    "\n"
   ]
  },
  {
   "cell_type": "markdown",
   "metadata": {
    "colab_type": "text",
    "id": "Oq1WYezetLS8"
   },
   "source": [
    "**Blatt 1 vom 2. Mai 2019: Rekursion**\n",
    "\n",
    "Abgabe bis Dienstag, den **7. Mai 2019**, 23:59\n",
    "\n",
    "Per Email an sven.buechel@uni-jena.de\n",
    "\n",
    "---\n"
   ]
  },
  {
   "cell_type": "markdown",
   "metadata": {
    "colab_type": "text",
    "id": "aFejKkIct3V4"
   },
   "source": [
    "**Vorname:** ...\n",
    "\n",
    "** Name:** ...\n",
    "\n",
    "** Matrikelnummer:** ...\n",
    "\n",
    "---\n",
    "\n"
   ]
  },
  {
   "cell_type": "markdown",
   "metadata": {},
   "source": [
    "**Erreichte Punktzahl: .../10**\n",
    "\n",
    "-----"
   ]
  },
  {
   "cell_type": "markdown",
   "metadata": {
    "colab_type": "text",
    "id": "fvhgh7gSuShj"
   },
   "source": [
    "## Aufgabe 1: Palindrom-Erkennung\n",
    "** (.../10 Punkten)**\n",
    "\n",
    "Ein Palindrom ist eine Zeichenkette, die vorwärts und rückwärts gelesen gleich ist (\"otto\", \"rentner\", \"rotor\"). In dieser Aufgabe sollen Sie eine rekursive Funktion schreiben, die Überprüft, ob es sich bei einem String um ein solches Palindrom handelt"
   ]
  },
  {
   "cell_type": "markdown",
   "metadata": {},
   "source": [
    "### a)\n",
    "**(... / 4 Punkte)**\n",
    "\n",
    "Überlegen Sie zuerst und beantworten folgende Fragen:\n",
    "\n",
    "1. Welches ist der triviale Fall, bei dem das Problem bereits gelöst ist?\n",
    "2. Wie kann das Problem vereinfacht werden, um dem trivialen Fall näherzukommen?\n",
    "\n",
    "### Lösung:\n",
    "1. ...\n",
    "2. ..."
   ]
  },
  {
   "cell_type": "markdown",
   "metadata": {},
   "source": [
    "### b)\n",
    "**(... / 6 Punkten)**\n",
    "\n",
    "Implementieren Sie die Funktion.\n",
    "\n",
    "### Lösung:"
   ]
  },
  {
   "cell_type": "code",
   "execution_count": null,
   "metadata": {
    "collapsed": true
   },
   "outputs": [],
   "source": [
    "def palindrom_erkenner(kandidat):\n",
    "    pass # bitte hier Lösung einfügen"
   ]
  },
  {
   "cell_type": "code",
   "execution_count": null,
   "metadata": {
    "collapsed": false
   },
   "outputs": [],
   "source": [
    "# Testlauf\n",
    "print(palindrom_erkenner(\"rentner\"))\n",
    "print(palindrom_erkenner(\"rentnerin\"))"
   ]
  },
  {
   "cell_type": "markdown",
   "metadata": {},
   "source": [
    "---"
   ]
  }
 ],
 "metadata": {
  "colab": {
   "collapsed_sections": [],
   "name": "cl1_blatt1_loesung.ipynb",
   "provenance": [],
   "version": "0.3.2"
  },
  "kernelspec": {
   "display_name": "Python 3",
   "language": "python",
   "name": "python3"
  },
  "language_info": {
   "codemirror_mode": {
    "name": "ipython",
    "version": 3
   },
   "file_extension": ".py",
   "mimetype": "text/x-python",
   "name": "python",
   "nbconvert_exporter": "python",
   "pygments_lexer": "ipython3",
   "version": "3.5.1"
  }
 },
 "nbformat": 4,
 "nbformat_minor": 0
}
