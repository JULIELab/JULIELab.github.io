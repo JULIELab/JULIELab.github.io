{
 "cells": [
  {
   "cell_type": "markdown",
   "metadata": {
    "colab_type": "text",
    "id": "9wLM0LR7sQ3N"
   },
   "source": [
    "# Übung zur Vorlesung \"Computerlinguistik II\"\n",
    "---\n",
    "Sommersemester 2019\n",
    "\n",
    "Modulverantwortliche: Prof. Dr. Udo Hahn, Sven Büchel\n",
    "\n",
    "Lehrstuhl für Computerlingustik \n",
    "\n",
    "Friedrich-Schiller-Universität Jena\n",
    "\n"
   ]
  },
  {
   "cell_type": "markdown",
   "metadata": {
    "colab_type": "text",
    "id": "Oq1WYezetLS8"
   },
   "source": [
    "**Blatt 3 vom 7. Mai 2019: Sprachmodelle**\n",
    "\n",
    "Abgabe bis Sonntag, den **12. Mai 2019**, 23:59\n",
    "\n",
    "Per Email an sven.buechel@uni-jena.de\n",
    "\n",
    "---\n"
   ]
  },
  {
   "cell_type": "markdown",
   "metadata": {
    "colab_type": "text",
    "id": "aFejKkIct3V4"
   },
   "source": [
    "**Vorname:** ...\n",
    "\n",
    "** Name:** ...\n",
    "\n",
    "** Matrikelnummer:** ...\n",
    "\n",
    "---\n",
    "\n"
   ]
  },
  {
   "cell_type": "markdown",
   "metadata": {},
   "source": [
    "**Erreichte Punktzahl: .../10**\n",
    "\n",
    "-----"
   ]
  },
  {
   "cell_type": "markdown",
   "metadata": {
    "colab_type": "text",
    "id": "fvhgh7gSuShj"
   },
   "source": [
    "## Aufgabe 1: Ein einfaches Sprachmodell\n",
    "** (... / 10 Punkten)**"
   ]
  },
  {
   "cell_type": "markdown",
   "metadata": {},
   "source": [
    "### a)\n",
    "**( ... / 3 Punkten)**\n",
    "\n",
    "Benutzen Sie `korpus`, um die relative Häufigkeit von Unigrammen (einzelnen Wörtern) abzuschätzen. Erzeugen Sie dafür ein Dictionary, das von Strings von Floats abbildet. Die Art der Tokenisierung ist Ihnen überlassen und hat (sofern einigermaßen sinnvoll) keinen Einfluss auf die Bewertung."
   ]
  },
  {
   "cell_type": "code",
   "execution_count": 1,
   "metadata": {
    "collapsed": false
   },
   "outputs": [],
   "source": [
    "korpus = \"\"\"Robert Nesta Marley, OM (6 February 1945 – 11 May 1981) was a Jamaican singer and songwriter. Considered one of the pioneers of reggae, his musical career was marked by blending elements of reggae, ska, and rocksteady, as well as forging a smooth and distinctive vocal and songwriting style. Marley's contributions to music increased the visibility of Jamaican music worldwide, and made him a global figure in popular culture for over a decade.  Born in Nine Mile, British Jamaica, Marley began his professional musical career in 1963, after forming Bob Marley & The Wailers. The group released its debut studio album The Wailing Wailers in 1965, which contained the single \"One Love/People Get Ready\"; the song was immensely popular, peaking in the top five on worldwide music charts, and established the group as a rising figure in reggae. The Wailers subsequently released eleven further studio albums; while initially employing louder instrumentation and singing, the group began engaging in rhythmic-based song construction in the late 1960s and early 1970s, which coincided with the singer's conversion to Rastafarianism. During this period Marley relocated to London, and the group typified their musical shift with the release of the album The Best of The Wailers (1971).  The group attained international success after the release of the albums Catch a Fire and Burnin' (both 1973), and forged a reputation as touring artists. A year later the Wailers disbanded, and Marley went on to release his solo material under the band's name. His debut studio album Natty Dread (1974) received positive reception, as did its follow-up Rastaman Vibration (1976). A few months after the album's release Marley survived an assassination attempt at his home in Jamaica, which prompted him to permanently relocate to London soon afterward. There he recorded the album Exodus (1977); it incorporated elements of blues, soul, and British rock, enjoyed widespread commercial success, and is widely considered one of the best albums of all time.  Over the course of his career Marley became known as a Rastafari icon, and the singer sought to infuse his music with a sense of spirituality. He is also considered a global symbol of Jamaican culture and identity, and was controversial in his outspoken support for the legalization of marijuana, while he also advocated for Pan-Africanism.  In 1977, Marley was diagnosed with acral lentiginous melanoma; he died as a result of the illness in 1981. His fans around the world expressed their grief, and he received a state funeral in Jamaica. The greatest hits album Legend was released in 1984, and subsequently became the best-selling reggae album of all-time. Marley also ranks as one of the best-selling music artists of all-time, with estimated sales of more than 75 million records worldwide, while his sound and style have influenced artists of various genres. He was posthumously honored by Jamaica soon after his death, as he was designated the nation's Order of Merit award.\"\"\""
   ]
  },
  {
   "cell_type": "code",
   "execution_count": 2,
   "metadata": {
    "collapsed": false
   },
   "outputs": [
    {
     "name": "stdout",
     "output_type": "stream",
     "text": [
      "True\n",
      "b\n",
      "a\n"
     ]
    }
   ],
   "source": [
    "# HINWEIS\n",
    "\n",
    "x = {\"a\":42,\n",
    "    \"b\":42}\n",
    "\n",
    "print(\"a\" in x) # überprüft, ob ein Key in einem Dictionary vorhanden ist\n",
    "\n",
    "for k in x: # iterieren über alle Keys\n",
    "    print(k)"
   ]
  },
  {
   "cell_type": "markdown",
   "metadata": {},
   "source": [
    "### Lösung"
   ]
  },
  {
   "cell_type": "code",
   "execution_count": 3,
   "metadata": {
    "collapsed": false,
    "scrolled": false
   },
   "outputs": [],
   "source": [
    "# ..."
   ]
  },
  {
   "cell_type": "markdown",
   "metadata": {},
   "source": [
    "---"
   ]
  },
  {
   "cell_type": "markdown",
   "metadata": {},
   "source": [
    "### b)\n",
    "**(... / 1 Punkten)**\n",
    "\n",
    "Wie viele Tokens und wie viele Types sind in `korpus` vorhanden?\n",
    "\n",
    "### Lösung"
   ]
  },
  {
   "cell_type": "code",
   "execution_count": 4,
   "metadata": {
    "collapsed": false
   },
   "outputs": [],
   "source": [
    "# ..."
   ]
  },
  {
   "cell_type": "markdown",
   "metadata": {},
   "source": [
    "---"
   ]
  },
  {
   "cell_type": "markdown",
   "metadata": {},
   "source": [
    "### c)\n",
    "\n",
    "**(... / 3 Punkten)**\n",
    "\n",
    "Benutzen Sie das Dictionary aus der früheren Aufgabe, um die Wahrscheinlichkeit von `satz` durch relative Worthäufigkeit abzuschätzen. Vervollständigen Sie hierzu die unten stehende Funktion `unigram_prob`.\n",
    "\n",
    "Sollten Sie die oben stehende Aufgabe nicht gelöst haben benutzen Sie stattdessen `probs_fallback` als Dictionary."
   ]
  },
  {
   "cell_type": "code",
   "execution_count": 5,
   "metadata": {
    "collapsed": true
   },
   "outputs": [],
   "source": [
    "satz =  \"The career of Bob Marley began in Jamaica\""
   ]
  },
  {
   "cell_type": "code",
   "execution_count": 6,
   "metadata": {
    "collapsed": true
   },
   "outputs": [],
   "source": [
    "probs_fallback = {\"The\": .0001,\n",
    "                 \"career\": .0002,\n",
    "                 \"of\": .0003,\n",
    "                 \"Bob\": .0004, \n",
    "                 \"Marley\": .0005,\n",
    "                 \"began\": .0006,\n",
    "                 \"in\": .0007,\n",
    "                 \"Jamaica\": .0008}"
   ]
  },
  {
   "cell_type": "markdown",
   "metadata": {},
   "source": [
    "### Lösung"
   ]
  },
  {
   "cell_type": "code",
   "execution_count": 9,
   "metadata": {
    "collapsed": true
   },
   "outputs": [],
   "source": [
    "def unigram_prob(s, probs):\n",
    "    \"\"\"\n",
    "    s      String\n",
    "    probs  dict\n",
    "    \"\"\"\n",
    "    \n",
    "    # === code goes here === #\n",
    "    # ...\n",
    "    # ====================== #"
   ]
  },
  {
   "cell_type": "code",
   "execution_count": 10,
   "metadata": {
    "collapsed": false
   },
   "outputs": [
    {
     "data": {
      "text/plain": [
       "4.032e-28"
      ]
     },
     "execution_count": 10,
     "metadata": {},
     "output_type": "execute_result"
    }
   ],
   "source": [
    "# Probelauf\n",
    "unigram_prob(satz, probs_fallback) #ergibt 4.032e-28"
   ]
  },
  {
   "cell_type": "markdown",
   "metadata": {},
   "source": [
    "---"
   ]
  },
  {
   "cell_type": "markdown",
   "metadata": {},
   "source": [
    "### d)\n",
    "\n",
    "**(... / 3 Punkten)**\n",
    "\n",
    "Mit dem gegebenen `korpus` und `satz` ist eine Bigramm-basierte Wahrscheinlichkeitsabschätzung durch die Markovannahme nicht (ohne weiteres) möglich. Warum nicht?\n",
    "\n",
    "### Lösung\n",
    "..."
   ]
  },
  {
   "cell_type": "markdown",
   "metadata": {},
   "source": [
    "---"
   ]
  }
 ],
 "metadata": {
  "colab": {
   "collapsed_sections": [],
   "name": "cl1_blatt1_loesung.ipynb",
   "provenance": [],
   "version": "0.3.2"
  },
  "kernelspec": {
   "display_name": "Python 3",
   "language": "python",
   "name": "python3"
  },
  "language_info": {
   "codemirror_mode": {
    "name": "ipython",
    "version": 3
   },
   "file_extension": ".py",
   "mimetype": "text/x-python",
   "name": "python",
   "nbconvert_exporter": "python",
   "pygments_lexer": "ipython3",
   "version": "3.5.1"
  }
 },
 "nbformat": 4,
 "nbformat_minor": 0
}
