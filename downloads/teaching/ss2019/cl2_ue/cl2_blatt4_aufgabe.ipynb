{
 "cells": [
  {
   "cell_type": "markdown",
   "metadata": {
    "colab_type": "text",
    "id": "9wLM0LR7sQ3N"
   },
   "source": [
    "# Übung zur Vorlesung \"Computerlinguistik II\"\n",
    "---\n",
    "Sommersemester 2019\n",
    "\n",
    "Modulverantwortliche: Prof. Dr. Udo Hahn, Sven Büchel\n",
    "\n",
    "Lehrstuhl für Computerlingustik \n",
    "\n",
    "Friedrich-Schiller-Universität Jena\n",
    "\n"
   ]
  },
  {
   "cell_type": "markdown",
   "metadata": {
    "colab_type": "text",
    "id": "Oq1WYezetLS8"
   },
   "source": [
    "**Blatt 4 vom 28. Mai 2019: Reguläre Ausdrücke**\n",
    "\n",
    "Abgabe bis Sonntag, den **02. Juni 2019**, 23:59\n",
    "\n",
    "Per Email an sven.buechel@uni-jena.de\n",
    "\n",
    "---\n"
   ]
  },
  {
   "cell_type": "markdown",
   "metadata": {
    "colab_type": "text",
    "id": "aFejKkIct3V4"
   },
   "source": [
    "**Vorname:** ...\n",
    "\n",
    "** Name:** ...\n",
    "\n",
    "** Matrikelnummer:** ...\n",
    "\n",
    "---\n",
    "\n"
   ]
  },
  {
   "cell_type": "markdown",
   "metadata": {},
   "source": [
    "**Erreichte Punktzahl: .../10**\n",
    "\n",
    "-----"
   ]
  },
  {
   "cell_type": "markdown",
   "metadata": {
    "colab_type": "text",
    "id": "fvhgh7gSuShj"
   },
   "source": [
    "## Aufgabe 1: Regulärer Ausdrück in der Biomedizin-Domäne\n",
    "** (... / 6 Punkten)**"
   ]
  },
  {
   "cell_type": "markdown",
   "metadata": {},
   "source": [
    "Gegeben sei folgender Text."
   ]
  },
  {
   "cell_type": "code",
   "execution_count": null,
   "metadata": {
    "collapsed": false
   },
   "outputs": [],
   "source": [
    "text = \"\"\"\n",
    "Als Leucine fasst man zunächst die vier isomeren Aminosäuren Leucin, Isoleucin, tert-Leucin und Norleucin \n",
    "zusammen. Im Vergleich mit den vier Butanolen kann man sie als butylsubstituierte Glycine auffassen; damit \n",
    "sind alle vier Varianten vertreten.  Leucin und Isoleucin gehören zu den proteinogenen Aminosäuren, d. h.\n",
    "sie sind Bausteine der Proteine von Lebewesen und über den genetischen Code kodiert. Berücksichtigt man \n",
    "noch die Stereoisomerie, so sind noch 6 weitere Isomere hinzu zu rechnen: (a) D-Leucin, (b) D-Isoleucin, \n",
    "(c) L-allo-Isoleucin, (d) D-allo-Isoleucin, (e) D-tert-Leucin und (f) D-Norleucin. Sie werden jeweils unter \n",
    "den ihnen zugehörigen Aminosäureartikeln beschrieben.\n",
    "\"\"\""
   ]
  },
  {
   "cell_type": "markdown",
   "metadata": {},
   "source": [
    "### a)\n",
    "**... / 5 Punkten**\n",
    "\n",
    "Erstellen Sie einen regulären Ausdruck um sämtliche Varianten von Leucin im Text zu finden. Ihr Ausdruck kann auch \n",
    "auf Leucine passen, die nicht im Text erwähnt werden, darf im Beispielstext aber keine Fehler machen. Demonstrieren Sie ihre Lösung, indem Sie alle Matches ausgeben lassen."
   ]
  },
  {
   "cell_type": "markdown",
   "metadata": {},
   "source": [
    "### Lösung"
   ]
  },
  {
   "cell_type": "code",
   "execution_count": 1,
   "metadata": {
    "collapsed": false
   },
   "outputs": [],
   "source": [
    "# ..."
   ]
  },
  {
   "cell_type": "markdown",
   "metadata": {},
   "source": [
    "## b)\n",
    "**... / 1 Punkten**\n",
    "\n",
    "Wie nennt sich das computerlinguistische Problem, das hier mit Regulären Ausdrücken behandelt werden soll?\n",
    "\n",
    "### Lösung:\n",
    "\n",
    "..."
   ]
  },
  {
   "cell_type": "markdown",
   "metadata": {},
   "source": [
    "---"
   ]
  },
  {
   "cell_type": "markdown",
   "metadata": {},
   "source": [
    "# Aufgabe 2: Minimal-Tokenizer\n",
    "**(... / 4 Punkten)**\n",
    "\n",
    "Schreiben Sie einen Regex-basierten Tokenizer, der möglichst wenig linguistische Annahme über die Zusammensetzung von Wörtern macht und stattdessen sehr stark auf der Ebene einzelner Zeichen bleibt. (Ein solcher Tokenizer ist z.B. praktisch, um über verschiedenen Sprachen hinaus eingesetzt zu werden.) Ihr Tokenizer soll aneinanderhängende Buchstabenfolgen als Token erkennen und ansonsten Interpunktions- und Klammerzeichen als jeweils eigenständige Token auffassen. Vervollständigen Sie dazu die unten stehende Funktion und führen Sie den Probelauf durch.\n",
    "\n",
    "\n",
    "### Lösung"
   ]
  },
  {
   "cell_type": "code",
   "execution_count": null,
   "metadata": {
    "collapsed": false
   },
   "outputs": [],
   "source": [
    "import re\n",
    "\n",
    "def tokenizer(s):\n",
    "    # ============== # \n",
    "    # ...\n",
    "    # ================ # "
   ]
  },
  {
   "cell_type": "code",
   "execution_count": null,
   "metadata": {
    "collapsed": false
   },
   "outputs": [],
   "source": [
    "# PROBELAUF\n",
    "tokens = tokenizer(text)\n",
    "print(tokens)\n",
    "print(len(tokens))"
   ]
  },
  {
   "cell_type": "markdown",
   "metadata": {},
   "source": [
    "---"
   ]
  }
 ],
 "metadata": {
  "colab": {
   "collapsed_sections": [],
   "name": "cl1_blatt1_loesung.ipynb",
   "provenance": [],
   "version": "0.3.2"
  },
  "kernelspec": {
   "display_name": "Python 3",
   "language": "python",
   "name": "python3"
  },
  "language_info": {
   "codemirror_mode": {
    "name": "ipython",
    "version": 3
   },
   "file_extension": ".py",
   "mimetype": "text/x-python",
   "name": "python",
   "nbconvert_exporter": "python",
   "pygments_lexer": "ipython3",
   "version": "3.5.1"
  }
 },
 "nbformat": 4,
 "nbformat_minor": 0
}
